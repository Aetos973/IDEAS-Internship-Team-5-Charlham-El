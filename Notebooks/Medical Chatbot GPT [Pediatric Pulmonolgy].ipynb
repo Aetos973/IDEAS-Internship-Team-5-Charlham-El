{
 "cells": [
  {
   "cell_type": "markdown",
   "id": "e7f15ea4-16b1-4eb4-9878-54dc25bc72da",
   "metadata": {},
   "source": [
    "# Project Title:\n",
    "Building an NLP Model for Pediatric Respiratory Symptom Triage\n",
    "\n",
    "## Overview\n",
    "This project aims to leverage Natural Language Processing (NLP) to develop a proof-of-concept AI assistant that supports parents and caregivers in understanding and responding to common pediatric respiratory symptoms. In medical contexts where clinical intervention may not be immediately necessary, providing accessible, non-critical guidance is key to empowering better home-based decisions. By processing free-text symptom descriptions and translating them into actionable, medically-informed advice, this model seeks to serve as an intelligent triage layer—not a diagnostic tool, but a supportive aid for symptom interpretation.\n",
    "\n",
    "## Objective\n",
    "To develop an NLP-powered machine learning model that classifies free-text pediatric respiratory symptom descriptions into predefined, non-critical guidance categories such as:\n",
    "\n",
    "- Monitor at Home\n",
    "- Use Inhaler as Prescribed\n",
    "- Consult General Practitioner\n",
    "- Visit Emergency Room\n",
    "\n",
    "**This project encapsulates the full NLP development lifecycle including:**\n",
    "\n",
    "- Text preprocessing and cleaning\n",
    "- Feature extraction using statistical or deep embeddings\n",
    "- Model training using traditional ML and/or transformer-based classifiers\n",
    "- Evaluation via accuracy, precision, recall, F1-score, and confusion matrix\n",
    "- Packaging into an interface-ready deployment layer for real-world interaction\n"
   ]
  },
  {
   "cell_type": "markdown",
   "id": "87d939b9-7825-4ab7-809d-cdfd5e42126b",
   "metadata": {},
   "source": [
    "## Step 1: Define the Problem\n",
    "\n",
    "**NLP** or **Natural Language Processing** is the ability by which AI models can *understand* natural language *inputs* and *process them to work with*. Now, this naturally has far-reaching ripples—especially in a *language-intensive* space like the medical industry. In contexts where critical precision and patient clarity are both vital, NLP can bridge the communication gap between clinical terminology and layman understanding. By enabling AI systems to interpret symptoms described in plain language and return non-critical, guidance-level advice, NLP empowers patients and caregivers to make informed next steps—without the overload of medical jargon or the risk of misinterpretation. It ensures that help feels both reliable and relatable."
   ]
  },
  {
   "cell_type": "code",
   "execution_count": 1,
   "id": "0a53026a-2356-499e-91bb-46de4846e112",
   "metadata": {},
   "outputs": [],
   "source": [
    "# ======================================================\n",
    "# Step 1 – Importing Libraries & Setting Up Rich Logging\n",
    "# ======================================================\n",
    "\n",
    "# Rich logging & progress visualization\n",
    "from rich.console import Console\n",
    "from rich.progress import Progress, SpinnerColumn, BarColumn, TextColumn\n",
    "from rich.traceback import install\n",
    "\n",
    "# Enable rich tracebacks for cleaner error messages\n",
    "install()\n",
    "console = Console()\n",
    "\n",
    "# Helper to print step headers\n",
    "def log_step(step_name):\n",
    "    console.rule(f\"[bold blue]{step_name}\")\n",
    "\n",
    "# Progress display template\n",
    "def create_progress():\n",
    "    return Progress(\n",
    "        SpinnerColumn(),\n",
    "        \"[progress.description]{task.description}\",\n",
    "        BarColumn(),\n",
    "        TextColumn(\"{task.completed}/{task.total}\")\n",
    "    )\n",
    "\n",
    "# Standard utilities\n",
    "from tqdm import tqdm\n",
    "import matplotlib.pyplot as plt\n",
    "import seaborn as sns\n",
    "import os\n",
    "import re\n",
    "import json\n",
    "import sys\n",
    "import traceback\n",
    "\n",
    "# Data processing & model libraries\n",
    "from datasets import load_dataset\n",
    "from transformers import AutoTokenizer, AutoModelForCausalLM, TrainingArguments, Trainer, pipeline\n",
    "from peft import LoraConfig, get_peft_model\n",
    "import torch\n",
    "\n",
    "# Gradio interface\n",
    "import gradio as gr"
   ]
  },
  {
   "cell_type": "markdown",
   "id": "3421c779-1751-4cc1-95c6-b1398ab943ff",
   "metadata": {},
   "source": [
    "##  Step 2"
   ]
  },
  {
   "cell_type": "code",
   "execution_count": 2,
   "id": "bd29f17c-f4b9-4501-a70b-ed0345140ccb",
   "metadata": {},
   "outputs": [
    {
     "data": {
      "text/html": [
       "<pre style=\"white-space:pre;overflow-x:auto;line-height:normal;font-family:Menlo,'DejaVu Sans Mono',consolas,'Courier New',monospace\"><span style=\"color: #00ff00; text-decoration-color: #00ff00\">─────────────────────────────────────── </span><span style=\"color: #000080; text-decoration-color: #000080; font-weight: bold\">Step </span><span style=\"color: #000080; text-decoration-color: #000080; font-weight: bold\">2</span><span style=\"color: #000080; text-decoration-color: #000080; font-weight: bold\"> – Data Loading &amp; Previewing</span><span style=\"color: #00ff00; text-decoration-color: #00ff00\"> ────────────────────────────────────────</span>\n",
       "</pre>\n"
      ],
      "text/plain": [
       "\u001b[92m─────────────────────────────────────── \u001b[0m\u001b[1;34mStep \u001b[0m\u001b[1;34m2\u001b[0m\u001b[1;34m – Data Loading & Previewing\u001b[0m\u001b[92m ────────────────────────────────────────\u001b[0m\n"
      ]
     },
     "metadata": {},
     "output_type": "display_data"
    },
    {
     "name": "stderr",
     "output_type": "stream",
     "text": [
      "Loading dataset files:   0%|          | 0/2 [00:00<?, ?it/s]"
     ]
    },
    {
     "data": {
      "text/html": [
       "<pre style=\"white-space:pre;overflow-x:auto;line-height:normal;font-family:Menlo,'DejaVu Sans Mono',consolas,'Courier New',monospace\"><span style=\"color: #7fbfbf; text-decoration-color: #7fbfbf\">[20:39:41] </span><span style=\"color: #008080; text-decoration-color: #008080\">Reading file:</span> .<span style=\"color: #800080; text-decoration-color: #800080\">/Dataset/</span><span style=\"color: #ff00ff; text-decoration-color: #ff00ff\">PEDIATRIC</span> PULMONOLOGY.txt                                       <a href=\"file:///tmp/ipykernel_30958/2952273055.py\" target=\"_blank\"><span style=\"color: #7f7f7f; text-decoration-color: #7f7f7f\">2952273055.py</span></a><span style=\"color: #7f7f7f; text-decoration-color: #7f7f7f\">:</span><a href=\"file:///tmp/ipykernel_30958/2952273055.py#12\" target=\"_blank\"><span style=\"color: #7f7f7f; text-decoration-color: #7f7f7f\">12</span></a>\n",
       "</pre>\n"
      ],
      "text/plain": [
       "\u001b[2;36m[20:39:41]\u001b[0m\u001b[2;36m \u001b[0m\u001b[36mReading file:\u001b[0m .\u001b[35m/Dataset/\u001b[0m\u001b[95mPEDIATRIC\u001b[0m PULMONOLOGY.txt                                       \u001b]8;id=800389;file:///tmp/ipykernel_30958/2952273055.py\u001b\\\u001b[2m2952273055.py\u001b[0m\u001b]8;;\u001b\\\u001b[2m:\u001b[0m\u001b]8;id=334106;file:///tmp/ipykernel_30958/2952273055.py#12\u001b\\\u001b[2m12\u001b[0m\u001b]8;;\u001b\\\n"
      ]
     },
     "metadata": {},
     "output_type": "display_data"
    },
    {
     "data": {
      "text/html": [
       "<pre style=\"white-space:pre;overflow-x:auto;line-height:normal;font-family:Menlo,'DejaVu Sans Mono',consolas,'Courier New',monospace\"><span style=\"color: #7fbfbf; text-decoration-color: #7fbfbf\">           </span><span style=\"color: #008080; text-decoration-color: #008080\">Reading file:</span> .<span style=\"color: #800080; text-decoration-color: #800080\">/Dataset/</span><span style=\"color: #ff00ff; text-decoration-color: #ff00ff\">PEDIATRIC</span> PULMONOLOGY <span style=\"color: #008080; text-decoration-color: #008080; font-weight: bold\">2.</span>txt                                     <a href=\"file:///tmp/ipykernel_30958/2952273055.py\" target=\"_blank\"><span style=\"color: #7f7f7f; text-decoration-color: #7f7f7f\">2952273055.py</span></a><span style=\"color: #7f7f7f; text-decoration-color: #7f7f7f\">:</span><a href=\"file:///tmp/ipykernel_30958/2952273055.py#12\" target=\"_blank\"><span style=\"color: #7f7f7f; text-decoration-color: #7f7f7f\">12</span></a>\n",
       "</pre>\n"
      ],
      "text/plain": [
       "\u001b[2;36m          \u001b[0m\u001b[2;36m \u001b[0m\u001b[36mReading file:\u001b[0m .\u001b[35m/Dataset/\u001b[0m\u001b[95mPEDIATRIC\u001b[0m PULMONOLOGY \u001b[1;36m2.\u001b[0mtxt                                     \u001b]8;id=76530;file:///tmp/ipykernel_30958/2952273055.py\u001b\\\u001b[2m2952273055.py\u001b[0m\u001b]8;;\u001b\\\u001b[2m:\u001b[0m\u001b]8;id=118758;file:///tmp/ipykernel_30958/2952273055.py#12\u001b\\\u001b[2m12\u001b[0m\u001b]8;;\u001b\\\n"
      ]
     },
     "metadata": {},
     "output_type": "display_data"
    },
    {
     "name": "stderr",
     "output_type": "stream",
     "text": [
      "Loading dataset files: 100%|██████████| 2/2 [00:00<00:00, 24.76it/s]\n"
     ]
    },
    {
     "data": {
      "text/html": [
       "<pre style=\"white-space:pre;overflow-x:auto;line-height:normal;font-family:Menlo,'DejaVu Sans Mono',consolas,'Courier New',monospace\"><span style=\"color: #7fbfbf; text-decoration-color: #7fbfbf\">           </span><span style=\"color: #008000; text-decoration-color: #008000\">✅ Dataset loaded with shape </span><span style=\"color: #008000; text-decoration-color: #008000; font-weight: bold\">(</span><span style=\"color: #008000; text-decoration-color: #008000; font-weight: bold\">14689</span><span style=\"color: #008000; text-decoration-color: #008000\">, </span><span style=\"color: #008000; text-decoration-color: #008000; font-weight: bold\">1</span><span style=\"color: #008000; text-decoration-color: #008000; font-weight: bold\">)</span>                                                 <a href=\"file:///tmp/ipykernel_30958/2952273055.py\" target=\"_blank\"><span style=\"color: #7f7f7f; text-decoration-color: #7f7f7f\">2952273055.py</span></a><span style=\"color: #7f7f7f; text-decoration-color: #7f7f7f\">:</span><a href=\"file:///tmp/ipykernel_30958/2952273055.py#19\" target=\"_blank\"><span style=\"color: #7f7f7f; text-decoration-color: #7f7f7f\">19</span></a>\n",
       "</pre>\n"
      ],
      "text/plain": [
       "\u001b[2;36m          \u001b[0m\u001b[2;36m \u001b[0m\u001b[32m✅ Dataset loaded with shape \u001b[0m\u001b[1;32m(\u001b[0m\u001b[1;32m14689\u001b[0m\u001b[32m, \u001b[0m\u001b[1;32m1\u001b[0m\u001b[1;32m)\u001b[0m                                                 \u001b]8;id=852783;file:///tmp/ipykernel_30958/2952273055.py\u001b\\\u001b[2m2952273055.py\u001b[0m\u001b]8;;\u001b\\\u001b[2m:\u001b[0m\u001b]8;id=272919;file:///tmp/ipykernel_30958/2952273055.py#19\u001b\\\u001b[2m19\u001b[0m\u001b]8;;\u001b\\\n"
      ]
     },
     "metadata": {},
     "output_type": "display_data"
    },
    {
     "data": {
      "text/html": [
       "<pre style=\"white-space:pre;overflow-x:auto;line-height:normal;font-family:Menlo,'DejaVu Sans Mono',consolas,'Courier New',monospace\"><span style=\"color: #7fbfbf; text-decoration-color: #7fbfbf\">           </span>First <span style=\"color: #008080; text-decoration-color: #008080; font-weight: bold\">5</span> rows of the raw dataset:                                                        <a href=\"file:///tmp/ipykernel_30958/2952273055.py\" target=\"_blank\"><span style=\"color: #7f7f7f; text-decoration-color: #7f7f7f\">2952273055.py</span></a><span style=\"color: #7f7f7f; text-decoration-color: #7f7f7f\">:</span><a href=\"file:///tmp/ipykernel_30958/2952273055.py#31\" target=\"_blank\"><span style=\"color: #7f7f7f; text-decoration-color: #7f7f7f\">31</span></a>\n",
       "</pre>\n"
      ],
      "text/plain": [
       "\u001b[2;36m          \u001b[0m\u001b[2;36m \u001b[0mFirst \u001b[1;36m5\u001b[0m rows of the raw dataset:                                                        \u001b]8;id=403503;file:///tmp/ipykernel_30958/2952273055.py\u001b\\\u001b[2m2952273055.py\u001b[0m\u001b]8;;\u001b\\\u001b[2m:\u001b[0m\u001b]8;id=272439;file:///tmp/ipykernel_30958/2952273055.py#31\u001b\\\u001b[2m31\u001b[0m\u001b]8;;\u001b\\\n"
      ]
     },
     "metadata": {},
     "output_type": "display_data"
    },
    {
     "data": {
      "text/html": [
       "<pre style=\"white-space:pre;overflow-x:auto;line-height:normal;font-family:Menlo,'DejaVu Sans Mono',consolas,'Courier New',monospace\">                                                   <span style=\"color: #008080; text-decoration-color: #008080; font-weight: bold\">0</span>\n",
       "<span style=\"color: #008080; text-decoration-color: #008080; font-weight: bold\">0</span>                              PADIATRIC PULMONOLOGY\n",
       "<span style=\"color: #008080; text-decoration-color: #008080; font-weight: bold\">1</span>  Pediatric pulmonology is a medical subspecialt<span style=\"color: #808000; text-decoration-color: #808000\">...</span>\n",
       "<span style=\"color: #008080; text-decoration-color: #008080; font-weight: bold\">2</span>                    WHO IS A PEDIATRIC PUMONOLOGIST\n",
       "<span style=\"color: #008080; text-decoration-color: #008080; font-weight: bold\">3</span>  A pediatric pulmonologist is a doctor who spec<span style=\"color: #808000; text-decoration-color: #808000\">...</span>\n",
       "<span style=\"color: #008080; text-decoration-color: #008080; font-weight: bold\">4</span>            What Does a Pediatric Pulmonologist Do?\n",
       "</pre>\n"
      ],
      "text/plain": [
       "                                                   \u001b[1;36m0\u001b[0m\n",
       "\u001b[1;36m0\u001b[0m                              PADIATRIC PULMONOLOGY\n",
       "\u001b[1;36m1\u001b[0m  Pediatric pulmonology is a medical subspecialt\u001b[33m...\u001b[0m\n",
       "\u001b[1;36m2\u001b[0m                    WHO IS A PEDIATRIC PUMONOLOGIST\n",
       "\u001b[1;36m3\u001b[0m  A pediatric pulmonologist is a doctor who spec\u001b[33m...\u001b[0m\n",
       "\u001b[1;36m4\u001b[0m            What Does a Pediatric Pulmonologist Do?\n"
      ]
     },
     "metadata": {},
     "output_type": "display_data"
    }
   ],
   "source": [
    "# ======================================================\n",
    "# Step 2 – Data Loading & Previewing\n",
    "# ======================================================\n",
    "\n",
    "import pandas as pd\n",
    "\n",
    "def load_data(file_paths):\n",
    "    \"\"\"Loads multiple tab-separated text files into a single DataFrame.\"\"\"\n",
    "    dfs = []\n",
    "    for file in tqdm(file_paths, desc=\"Loading dataset files\"):\n",
    "        try:\n",
    "            console.log(f\"[cyan]Reading file:[/cyan] {file}\")\n",
    "            df = pd.read_csv(file, delimiter=\"\\t\", header=None, dtype=str)\n",
    "            dfs.append(df)\n",
    "        except Exception as e:\n",
    "            console.log(f\"[red]Error reading {file}[/red]: {e}\")\n",
    "            console.print_exception()\n",
    "    combined_df = pd.concat(dfs, ignore_index=True)\n",
    "    console.log(f\"[green]✅ Dataset loaded with shape {combined_df.shape}[/green]\")\n",
    "    return combined_df\n",
    "\n",
    "try:\n",
    "    log_step(\"Step 2 – Data Loading & Previewing\")\n",
    "\n",
    "    files = [\n",
    "        \"./Dataset/PEDIATRIC PULMONOLOGY.txt\",\n",
    "        \"./Dataset/PEDIATRIC PULMONOLOGY 2.txt\"\n",
    "    ]\n",
    "\n",
    "    df_raw = load_data(files)\n",
    "    console.log(f\"First 5 rows of the raw dataset:\")\n",
    "    console.print(df_raw.head(), highlight=True)\n",
    "\n",
    "except Exception as e:\n",
    "    console.log(\"[red]❌ Failed to load and preview dataset[/red]\")\n",
    "    console.print_exception()"
   ]
  },
  {
   "cell_type": "markdown",
   "id": "58a37d25-71bf-4e15-9fa2-9824e9ad4c0e",
   "metadata": {},
   "source": [
    "## Step 3"
   ]
  },
  {
   "cell_type": "code",
   "execution_count": 3,
   "id": "e1ddf11d-c783-460f-a066-b4ef4df93cb3",
   "metadata": {},
   "outputs": [
    {
     "data": {
      "text/html": [
       "<pre style=\"white-space:pre;overflow-x:auto;line-height:normal;font-family:Menlo,'DejaVu Sans Mono',consolas,'Courier New',monospace\"><span style=\"color: #00ff00; text-decoration-color: #00ff00\">────────────────────────────────────────────────── </span><span style=\"color: #000080; text-decoration-color: #000080; font-weight: bold\">Step </span><span style=\"color: #000080; text-decoration-color: #000080; font-weight: bold\">3</span><span style=\"color: #000080; text-decoration-color: #000080; font-weight: bold\"> – EDA</span><span style=\"color: #00ff00; text-decoration-color: #00ff00\"> ───────────────────────────────────────────────────</span>\n",
       "</pre>\n"
      ],
      "text/plain": [
       "\u001b[92m────────────────────────────────────────────────── \u001b[0m\u001b[1;34mStep \u001b[0m\u001b[1;34m3\u001b[0m\u001b[1;34m – EDA\u001b[0m\u001b[92m ───────────────────────────────────────────────────\u001b[0m\n"
      ]
     },
     "metadata": {},
     "output_type": "display_data"
    },
    {
     "data": {
      "text/html": [
       "<pre style=\"white-space:pre;overflow-x:auto;line-height:normal;font-family:Menlo,'DejaVu Sans Mono',consolas,'Courier New',monospace\"><span style=\"color: #7fbfbf; text-decoration-color: #7fbfbf\">[20:39:42] </span><span style=\"color: #008080; text-decoration-color: #008080\">Merging dataset columns into a single text field...</span>                                      <a href=\"file:///tmp/ipykernel_30958/2608604836.py\" target=\"_blank\"><span style=\"color: #7f7f7f; text-decoration-color: #7f7f7f\">2608604836.py</span></a><span style=\"color: #7f7f7f; text-decoration-color: #7f7f7f\">:</span><a href=\"file:///tmp/ipykernel_30958/2608604836.py#8\" target=\"_blank\"><span style=\"color: #7f7f7f; text-decoration-color: #7f7f7f\">8</span></a>\n",
       "</pre>\n"
      ],
      "text/plain": [
       "\u001b[2;36m[20:39:42]\u001b[0m\u001b[2;36m \u001b[0m\u001b[36mMerging dataset columns into a single text field\u001b[0m\u001b[36m...\u001b[0m                                      \u001b]8;id=380902;file:///tmp/ipykernel_30958/2608604836.py\u001b\\\u001b[2m2608604836.py\u001b[0m\u001b]8;;\u001b\\\u001b[2m:\u001b[0m\u001b]8;id=88548;file:///tmp/ipykernel_30958/2608604836.py#8\u001b\\\u001b[2m8\u001b[0m\u001b]8;;\u001b\\\n"
      ]
     },
     "metadata": {},
     "output_type": "display_data"
    },
    {
     "data": {
      "text/html": [
       "<pre style=\"white-space:pre;overflow-x:auto;line-height:normal;font-family:Menlo,'DejaVu Sans Mono',consolas,'Courier New',monospace\"><span style=\"color: #7fbfbf; text-decoration-color: #7fbfbf\">           </span><span style=\"color: #008080; text-decoration-color: #008080\">Cleaning whitespace...</span>                                                                  <a href=\"file:///tmp/ipykernel_30958/2608604836.py\" target=\"_blank\"><span style=\"color: #7f7f7f; text-decoration-color: #7f7f7f\">2608604836.py</span></a><span style=\"color: #7f7f7f; text-decoration-color: #7f7f7f\">:</span><a href=\"file:///tmp/ipykernel_30958/2608604836.py#11\" target=\"_blank\"><span style=\"color: #7f7f7f; text-decoration-color: #7f7f7f\">11</span></a>\n",
       "</pre>\n"
      ],
      "text/plain": [
       "\u001b[2;36m          \u001b[0m\u001b[2;36m \u001b[0m\u001b[36mCleaning whitespace\u001b[0m\u001b[36m...\u001b[0m                                                                  \u001b]8;id=755929;file:///tmp/ipykernel_30958/2608604836.py\u001b\\\u001b[2m2608604836.py\u001b[0m\u001b]8;;\u001b\\\u001b[2m:\u001b[0m\u001b]8;id=787106;file:///tmp/ipykernel_30958/2608604836.py#11\u001b\\\u001b[2m11\u001b[0m\u001b]8;;\u001b\\\n"
      ]
     },
     "metadata": {},
     "output_type": "display_data"
    },
    {
     "data": {
      "text/html": [
       "<pre style=\"white-space:pre;overflow-x:auto;line-height:normal;font-family:Menlo,'DejaVu Sans Mono',consolas,'Courier New',monospace\"><span style=\"color: #7fbfbf; text-decoration-color: #7fbfbf\">           </span><span style=\"color: #008080; text-decoration-color: #008080\">Dropping empty and duplicate entries...</span>                                                 <a href=\"file:///tmp/ipykernel_30958/2608604836.py\" target=\"_blank\"><span style=\"color: #7f7f7f; text-decoration-color: #7f7f7f\">2608604836.py</span></a><span style=\"color: #7f7f7f; text-decoration-color: #7f7f7f\">:</span><a href=\"file:///tmp/ipykernel_30958/2608604836.py#14\" target=\"_blank\"><span style=\"color: #7f7f7f; text-decoration-color: #7f7f7f\">14</span></a>\n",
       "</pre>\n"
      ],
      "text/plain": [
       "\u001b[2;36m          \u001b[0m\u001b[2;36m \u001b[0m\u001b[36mDropping empty and duplicate entries\u001b[0m\u001b[36m...\u001b[0m                                                 \u001b]8;id=914710;file:///tmp/ipykernel_30958/2608604836.py\u001b\\\u001b[2m2608604836.py\u001b[0m\u001b]8;;\u001b\\\u001b[2m:\u001b[0m\u001b]8;id=716378;file:///tmp/ipykernel_30958/2608604836.py#14\u001b\\\u001b[2m14\u001b[0m\u001b]8;;\u001b\\\n"
      ]
     },
     "metadata": {},
     "output_type": "display_data"
    },
    {
     "data": {
      "text/html": [
       "<pre style=\"white-space:pre;overflow-x:auto;line-height:normal;font-family:Menlo,'DejaVu Sans Mono',consolas,'Courier New',monospace\"><span style=\"color: #7fbfbf; text-decoration-color: #7fbfbf\">           </span><span style=\"color: #008080; text-decoration-color: #008080\">Calculating text length statistics...</span>                                                   <a href=\"file:///tmp/ipykernel_30958/2608604836.py\" target=\"_blank\"><span style=\"color: #7f7f7f; text-decoration-color: #7f7f7f\">2608604836.py</span></a><span style=\"color: #7f7f7f; text-decoration-color: #7f7f7f\">:</span><a href=\"file:///tmp/ipykernel_30958/2608604836.py#17\" target=\"_blank\"><span style=\"color: #7f7f7f; text-decoration-color: #7f7f7f\">17</span></a>\n",
       "</pre>\n"
      ],
      "text/plain": [
       "\u001b[2;36m          \u001b[0m\u001b[2;36m \u001b[0m\u001b[36mCalculating text length statistics\u001b[0m\u001b[36m...\u001b[0m                                                   \u001b]8;id=569606;file:///tmp/ipykernel_30958/2608604836.py\u001b\\\u001b[2m2608604836.py\u001b[0m\u001b]8;;\u001b\\\u001b[2m:\u001b[0m\u001b]8;id=905717;file:///tmp/ipykernel_30958/2608604836.py#17\u001b\\\u001b[2m17\u001b[0m\u001b]8;;\u001b\\\n"
      ]
     },
     "metadata": {},
     "output_type": "display_data"
    },
    {
     "data": {
      "text/html": [
       "<pre style=\"white-space:pre;overflow-x:auto;line-height:normal;font-family:Menlo,'DejaVu Sans Mono',consolas,'Courier New',monospace\"><span style=\"color: #7fbfbf; text-decoration-color: #7fbfbf\">           </span><span style=\"color: #008000; text-decoration-color: #008000\">✅ EDA complete</span>                                                                         <a href=\"file:///tmp/ipykernel_30958/2608604836.py\" target=\"_blank\"><span style=\"color: #7f7f7f; text-decoration-color: #7f7f7f\">2608604836.py</span></a><span style=\"color: #7f7f7f; text-decoration-color: #7f7f7f\">:</span><a href=\"file:///tmp/ipykernel_30958/2608604836.py#20\" target=\"_blank\"><span style=\"color: #7f7f7f; text-decoration-color: #7f7f7f\">20</span></a>\n",
       "</pre>\n"
      ],
      "text/plain": [
       "\u001b[2;36m          \u001b[0m\u001b[2;36m \u001b[0m\u001b[32m✅ EDA complete\u001b[0m                                                                         \u001b]8;id=820655;file:///tmp/ipykernel_30958/2608604836.py\u001b\\\u001b[2m2608604836.py\u001b[0m\u001b]8;;\u001b\\\u001b[2m:\u001b[0m\u001b]8;id=471675;file:///tmp/ipykernel_30958/2608604836.py#20\u001b\\\u001b[2m20\u001b[0m\u001b]8;;\u001b\\\n"
      ]
     },
     "metadata": {},
     "output_type": "display_data"
    },
    {
     "data": {
      "text/html": [
       "<pre style=\"white-space:pre;overflow-x:auto;line-height:normal;font-family:Menlo,'DejaVu Sans Mono',consolas,'Courier New',monospace\"><span style=\"color: #7fbfbf; text-decoration-color: #7fbfbf\">           </span>count    <span style=\"color: #008080; text-decoration-color: #008080; font-weight: bold\">12777.000000</span>                                                                   <a href=\"file:///tmp/ipykernel_30958/2608604836.py\" target=\"_blank\"><span style=\"color: #7f7f7f; text-decoration-color: #7f7f7f\">2608604836.py</span></a><span style=\"color: #7f7f7f; text-decoration-color: #7f7f7f\">:</span><a href=\"file:///tmp/ipykernel_30958/2608604836.py#21\" target=\"_blank\"><span style=\"color: #7f7f7f; text-decoration-color: #7f7f7f\">21</span></a>\n",
       "<span style=\"color: #7fbfbf; text-decoration-color: #7fbfbf\">           </span>mean       <span style=\"color: #008080; text-decoration-color: #008080; font-weight: bold\">118.940988</span>                                                                   <span style=\"color: #7f7f7f; text-decoration-color: #7f7f7f\">                </span>\n",
       "<span style=\"color: #7fbfbf; text-decoration-color: #7fbfbf\">           </span>std        <span style=\"color: #008080; text-decoration-color: #008080; font-weight: bold\">118.596189</span>                                                                   <span style=\"color: #7f7f7f; text-decoration-color: #7f7f7f\">                </span>\n",
       "<span style=\"color: #7fbfbf; text-decoration-color: #7fbfbf\">           </span>min          <span style=\"color: #008080; text-decoration-color: #008080; font-weight: bold\">3.000000</span>                                                                   <span style=\"color: #7f7f7f; text-decoration-color: #7f7f7f\">                </span>\n",
       "<span style=\"color: #7fbfbf; text-decoration-color: #7fbfbf\">           </span><span style=\"color: #008080; text-decoration-color: #008080; font-weight: bold\">25</span>%         <span style=\"color: #008080; text-decoration-color: #008080; font-weight: bold\">36.000000</span>                                                                   <span style=\"color: #7f7f7f; text-decoration-color: #7f7f7f\">                </span>\n",
       "<span style=\"color: #7fbfbf; text-decoration-color: #7fbfbf\">           </span><span style=\"color: #008080; text-decoration-color: #008080; font-weight: bold\">50</span>%         <span style=\"color: #008080; text-decoration-color: #008080; font-weight: bold\">75.000000</span>                                                                   <span style=\"color: #7f7f7f; text-decoration-color: #7f7f7f\">                </span>\n",
       "<span style=\"color: #7fbfbf; text-decoration-color: #7fbfbf\">           </span><span style=\"color: #008080; text-decoration-color: #008080; font-weight: bold\">75</span>%        <span style=\"color: #008080; text-decoration-color: #008080; font-weight: bold\">171.000000</span>                                                                   <span style=\"color: #7f7f7f; text-decoration-color: #7f7f7f\">                </span>\n",
       "<span style=\"color: #7fbfbf; text-decoration-color: #7fbfbf\">           </span>max       <span style=\"color: #008080; text-decoration-color: #008080; font-weight: bold\">1536.000000</span>                                                                   <span style=\"color: #7f7f7f; text-decoration-color: #7f7f7f\">                </span>\n",
       "<span style=\"color: #7fbfbf; text-decoration-color: #7fbfbf\">           </span>Name: length, dtype: float64                                                            <span style=\"color: #7f7f7f; text-decoration-color: #7f7f7f\">                </span>\n",
       "</pre>\n"
      ],
      "text/plain": [
       "\u001b[2;36m          \u001b[0m\u001b[2;36m \u001b[0mcount    \u001b[1;36m12777.000000\u001b[0m                                                                   \u001b]8;id=990431;file:///tmp/ipykernel_30958/2608604836.py\u001b\\\u001b[2m2608604836.py\u001b[0m\u001b]8;;\u001b\\\u001b[2m:\u001b[0m\u001b]8;id=266374;file:///tmp/ipykernel_30958/2608604836.py#21\u001b\\\u001b[2m21\u001b[0m\u001b]8;;\u001b\\\n",
       "\u001b[2;36m           \u001b[0mmean       \u001b[1;36m118.940988\u001b[0m                                                                   \u001b[2m                \u001b[0m\n",
       "\u001b[2;36m           \u001b[0mstd        \u001b[1;36m118.596189\u001b[0m                                                                   \u001b[2m                \u001b[0m\n",
       "\u001b[2;36m           \u001b[0mmin          \u001b[1;36m3.000000\u001b[0m                                                                   \u001b[2m                \u001b[0m\n",
       "\u001b[2;36m           \u001b[0m\u001b[1;36m25\u001b[0m%         \u001b[1;36m36.000000\u001b[0m                                                                   \u001b[2m                \u001b[0m\n",
       "\u001b[2;36m           \u001b[0m\u001b[1;36m50\u001b[0m%         \u001b[1;36m75.000000\u001b[0m                                                                   \u001b[2m                \u001b[0m\n",
       "\u001b[2;36m           \u001b[0m\u001b[1;36m75\u001b[0m%        \u001b[1;36m171.000000\u001b[0m                                                                   \u001b[2m                \u001b[0m\n",
       "\u001b[2;36m           \u001b[0mmax       \u001b[1;36m1536.000000\u001b[0m                                                                   \u001b[2m                \u001b[0m\n",
       "\u001b[2;36m           \u001b[0mName: length, dtype: float64                                                            \u001b[2m                \u001b[0m\n"
      ]
     },
     "metadata": {},
     "output_type": "display_data"
    },
    {
     "data": {
      "text/html": [
       "<pre style=\"white-space:pre;overflow-x:auto;line-height:normal;font-family:Menlo,'DejaVu Sans Mono',consolas,'Courier New',monospace\"><span style=\"color: #7fbfbf; text-decoration-color: #7fbfbf\">           </span>First <span style=\"color: #008080; text-decoration-color: #008080; font-weight: bold\">5</span> cleaned entries:                                                                <a href=\"file:///tmp/ipykernel_30958/2608604836.py\" target=\"_blank\"><span style=\"color: #7f7f7f; text-decoration-color: #7f7f7f\">2608604836.py</span></a><span style=\"color: #7f7f7f; text-decoration-color: #7f7f7f\">:</span><a href=\"file:///tmp/ipykernel_30958/2608604836.py#33\" target=\"_blank\"><span style=\"color: #7f7f7f; text-decoration-color: #7f7f7f\">33</span></a>\n",
       "</pre>\n"
      ],
      "text/plain": [
       "\u001b[2;36m          \u001b[0m\u001b[2;36m \u001b[0mFirst \u001b[1;36m5\u001b[0m cleaned entries:                                                                \u001b]8;id=571102;file:///tmp/ipykernel_30958/2608604836.py\u001b\\\u001b[2m2608604836.py\u001b[0m\u001b]8;;\u001b\\\u001b[2m:\u001b[0m\u001b]8;id=622972;file:///tmp/ipykernel_30958/2608604836.py#33\u001b\\\u001b[2m33\u001b[0m\u001b]8;;\u001b\\\n"
      ]
     },
     "metadata": {},
     "output_type": "display_data"
    },
    {
     "data": {
      "text/html": [
       "<pre style=\"white-space:pre;overflow-x:auto;line-height:normal;font-family:Menlo,'DejaVu Sans Mono',consolas,'Courier New',monospace\">                                                   <span style=\"color: #008080; text-decoration-color: #008080; font-weight: bold\">0</span>  \\\n",
       "<span style=\"color: #008080; text-decoration-color: #008080; font-weight: bold\">0</span>                              PADIATRIC PULMONOLOGY   \n",
       "<span style=\"color: #008080; text-decoration-color: #008080; font-weight: bold\">1</span>  Pediatric pulmonology is a medical subspecialt<span style=\"color: #808000; text-decoration-color: #808000\">...</span>   \n",
       "<span style=\"color: #008080; text-decoration-color: #008080; font-weight: bold\">2</span>                    WHO IS A PEDIATRIC PUMONOLOGIST   \n",
       "<span style=\"color: #008080; text-decoration-color: #008080; font-weight: bold\">3</span>  A pediatric pulmonologist is a doctor who spec<span style=\"color: #808000; text-decoration-color: #808000\">...</span>   \n",
       "<span style=\"color: #008080; text-decoration-color: #008080; font-weight: bold\">4</span>            What Does a Pediatric Pulmonologist Do?   \n",
       "\n",
       "                                                text  length  \n",
       "<span style=\"color: #008080; text-decoration-color: #008080; font-weight: bold\">0</span>                              PADIATRIC PULMONOLOGY      <span style=\"color: #008080; text-decoration-color: #008080; font-weight: bold\">21</span>  \n",
       "<span style=\"color: #008080; text-decoration-color: #008080; font-weight: bold\">1</span>  Pediatric pulmonology is a medical subspecialt<span style=\"color: #808000; text-decoration-color: #808000\">...</span>     <span style=\"color: #008080; text-decoration-color: #008080; font-weight: bold\">284</span>  \n",
       "<span style=\"color: #008080; text-decoration-color: #008080; font-weight: bold\">2</span>                    WHO IS A PEDIATRIC PUMONOLOGIST      <span style=\"color: #008080; text-decoration-color: #008080; font-weight: bold\">31</span>  \n",
       "<span style=\"color: #008080; text-decoration-color: #008080; font-weight: bold\">3</span>  A pediatric pulmonologist is a doctor who spec<span style=\"color: #808000; text-decoration-color: #808000\">...</span>     <span style=\"color: #008080; text-decoration-color: #008080; font-weight: bold\">390</span>  \n",
       "<span style=\"color: #008080; text-decoration-color: #008080; font-weight: bold\">4</span>            What Does a Pediatric Pulmonologist Do?      <span style=\"color: #008080; text-decoration-color: #008080; font-weight: bold\">39</span>  \n",
       "</pre>\n"
      ],
      "text/plain": [
       "                                                   \u001b[1;36m0\u001b[0m  \\\n",
       "\u001b[1;36m0\u001b[0m                              PADIATRIC PULMONOLOGY   \n",
       "\u001b[1;36m1\u001b[0m  Pediatric pulmonology is a medical subspecialt\u001b[33m...\u001b[0m   \n",
       "\u001b[1;36m2\u001b[0m                    WHO IS A PEDIATRIC PUMONOLOGIST   \n",
       "\u001b[1;36m3\u001b[0m  A pediatric pulmonologist is a doctor who spec\u001b[33m...\u001b[0m   \n",
       "\u001b[1;36m4\u001b[0m            What Does a Pediatric Pulmonologist Do?   \n",
       "\n",
       "                                                text  length  \n",
       "\u001b[1;36m0\u001b[0m                              PADIATRIC PULMONOLOGY      \u001b[1;36m21\u001b[0m  \n",
       "\u001b[1;36m1\u001b[0m  Pediatric pulmonology is a medical subspecialt\u001b[33m...\u001b[0m     \u001b[1;36m284\u001b[0m  \n",
       "\u001b[1;36m2\u001b[0m                    WHO IS A PEDIATRIC PUMONOLOGIST      \u001b[1;36m31\u001b[0m  \n",
       "\u001b[1;36m3\u001b[0m  A pediatric pulmonologist is a doctor who spec\u001b[33m...\u001b[0m     \u001b[1;36m390\u001b[0m  \n",
       "\u001b[1;36m4\u001b[0m            What Does a Pediatric Pulmonologist Do?      \u001b[1;36m39\u001b[0m  \n"
      ]
     },
     "metadata": {},
     "output_type": "display_data"
    }
   ],
   "source": [
    "# ======================================================\n",
    "# Step 3 – Exploratory Data Analysis (EDA)\n",
    "# ======================================================\n",
    "\n",
    "def perform_eda(df):\n",
    "    \"\"\"Cleans basic text, removes duplicates, and runs quick statistics.\"\"\"\n",
    "    try:\n",
    "        console.log(\"[cyan]Merging dataset columns into a single text field...[/cyan]\")\n",
    "        df[\"text\"] = df.apply(lambda row: \" \".join([str(x) for x in row if pd.notna(x)]), axis=1)\n",
    "\n",
    "        console.log(\"[cyan]Cleaning whitespace...[/cyan]\")\n",
    "        df[\"text\"] = df[\"text\"].apply(lambda x: re.sub(r\"\\s+\", \" \", x).strip())\n",
    "\n",
    "        console.log(\"[cyan]Dropping empty and duplicate entries...[/cyan]\")\n",
    "        df = df.dropna(subset=[\"text\"]).drop_duplicates(subset=[\"text\"]).reset_index(drop=True)\n",
    "\n",
    "        console.log(\"[cyan]Calculating text length statistics...[/cyan]\")\n",
    "        df[\"length\"] = df[\"text\"].apply(len)\n",
    "\n",
    "        console.log(\"[green]✅ EDA complete[/green]\")\n",
    "        console.log(df[\"length\"].describe())\n",
    "\n",
    "        return df\n",
    "\n",
    "    except Exception as e:\n",
    "        console.log(\"[red]❌ EDA step failed[/red]\")\n",
    "        console.print_exception()\n",
    "        return df  # Return original df so pipeline doesn't break\n",
    "\n",
    "try:\n",
    "    log_step(\"Step 3 – EDA\")\n",
    "    df_clean = perform_eda(df_raw)\n",
    "    console.log(f\"First 5 cleaned entries:\")\n",
    "    console.print(df_clean.head(), highlight=True)\n",
    "except Exception as e:\n",
    "    console.log(\"[red]❌ Could not complete EDA[/red]\")\n",
    "    console.print_exception()"
   ]
  },
  {
   "cell_type": "markdown",
   "id": "b0063892-fd1b-4be7-bde3-0126ec4d6745",
   "metadata": {},
   "source": [
    "## Step 4"
   ]
  },
  {
   "cell_type": "code",
   "execution_count": 4,
   "id": "f868f45d",
   "metadata": {},
   "outputs": [
    {
     "data": {
      "text/html": [
       "<pre style=\"white-space:pre;overflow-x:auto;line-height:normal;font-family:Menlo,'DejaVu Sans Mono',consolas,'Courier New',monospace\"><span style=\"color: #00ff00; text-decoration-color: #00ff00\">─────────────────────────────────────────── </span><span style=\"color: #000080; text-decoration-color: #000080; font-weight: bold\">Step </span><span style=\"color: #000080; text-decoration-color: #000080; font-weight: bold\">4</span><span style=\"color: #000080; text-decoration-color: #000080; font-weight: bold\"> – Data Visualization</span><span style=\"color: #00ff00; text-decoration-color: #00ff00\"> ───────────────────────────────────────────</span>\n",
       "</pre>\n"
      ],
      "text/plain": [
       "\u001b[92m─────────────────────────────────────────── \u001b[0m\u001b[1;34mStep \u001b[0m\u001b[1;34m4\u001b[0m\u001b[1;34m – Data Visualization\u001b[0m\u001b[92m ───────────────────────────────────────────\u001b[0m\n"
      ]
     },
     "metadata": {},
     "output_type": "display_data"
    },
    {
     "data": {
      "text/html": [
       "<pre style=\"white-space:pre;overflow-x:auto;line-height:normal;font-family:Menlo,'DejaVu Sans Mono',consolas,'Courier New',monospace\"><span style=\"color: #7fbfbf; text-decoration-color: #7fbfbf\">           </span><span style=\"color: #008080; text-decoration-color: #008080\">Plotting text length distribution...</span>                                                    <a href=\"file:///tmp/ipykernel_30958/1195826806.py\" target=\"_blank\"><span style=\"color: #7f7f7f; text-decoration-color: #7f7f7f\">1195826806.py</span></a><span style=\"color: #7f7f7f; text-decoration-color: #7f7f7f\">:</span><a href=\"file:///tmp/ipykernel_30958/1195826806.py#10\" target=\"_blank\"><span style=\"color: #7f7f7f; text-decoration-color: #7f7f7f\">10</span></a>\n",
       "</pre>\n"
      ],
      "text/plain": [
       "\u001b[2;36m          \u001b[0m\u001b[2;36m \u001b[0m\u001b[36mPlotting text length distribution\u001b[0m\u001b[36m...\u001b[0m                                                    \u001b]8;id=849344;file:///tmp/ipykernel_30958/1195826806.py\u001b\\\u001b[2m1195826806.py\u001b[0m\u001b]8;;\u001b\\\u001b[2m:\u001b[0m\u001b]8;id=323678;file:///tmp/ipykernel_30958/1195826806.py#10\u001b\\\u001b[2m10\u001b[0m\u001b]8;;\u001b\\\n"
      ]
     },
     "metadata": {},
     "output_type": "display_data"
    },
    {
     "data": {
      "image/png": "[encoded data removed]",
      "text/plain": [
       "<Figure size 800x500 with 1 Axes>"
      ]
     },
     "metadata": {},
     "output_type": "display_data"
    },
    {
     "data": {
      "text/html": [
       "<pre style=\"white-space:pre;overflow-x:auto;line-height:normal;font-family:Menlo,'DejaVu Sans Mono',consolas,'Courier New',monospace\"><span style=\"color: #7fbfbf; text-decoration-color: #7fbfbf\">[20:39:43] </span><span style=\"color: #008080; text-decoration-color: #008080\">Extracting top </span><span style=\"color: #008080; text-decoration-color: #008080; font-weight: bold\">20</span><span style=\"color: #008080; text-decoration-color: #008080\"> most common words...</span>                                                  <a href=\"file:///tmp/ipykernel_30958/1195826806.py\" target=\"_blank\"><span style=\"color: #7f7f7f; text-decoration-color: #7f7f7f\">1195826806.py</span></a><span style=\"color: #7f7f7f; text-decoration-color: #7f7f7f\">:</span><a href=\"file:///tmp/ipykernel_30958/1195826806.py#18\" target=\"_blank\"><span style=\"color: #7f7f7f; text-decoration-color: #7f7f7f\">18</span></a>\n",
       "</pre>\n"
      ],
      "text/plain": [
       "\u001b[2;36m[20:39:43]\u001b[0m\u001b[2;36m \u001b[0m\u001b[36mExtracting top \u001b[0m\u001b[1;36m20\u001b[0m\u001b[36m most common words\u001b[0m\u001b[36m...\u001b[0m                                                  \u001b]8;id=743718;file:///tmp/ipykernel_30958/1195826806.py\u001b\\\u001b[2m1195826806.py\u001b[0m\u001b]8;;\u001b\\\u001b[2m:\u001b[0m\u001b]8;id=659045;file:///tmp/ipykernel_30958/1195826806.py#18\u001b\\\u001b[2m18\u001b[0m\u001b]8;;\u001b\\\n"
      ]
     },
     "metadata": {},
     "output_type": "display_data"
    },
    {
     "data": {
      "text/html": [
       "<pre style=\"white-space:pre;overflow-x:auto;line-height:normal;font-family:Menlo,'DejaVu Sans Mono',consolas,'Courier New',monospace\"><span style=\"color: #7fbfbf; text-decoration-color: #7fbfbf\">           </span><span style=\"color: #008080; text-decoration-color: #008080\">Plotting most common words...</span>                                                           <a href=\"file:///tmp/ipykernel_30958/1195826806.py\" target=\"_blank\"><span style=\"color: #7f7f7f; text-decoration-color: #7f7f7f\">1195826806.py</span></a><span style=\"color: #7f7f7f; text-decoration-color: #7f7f7f\">:</span><a href=\"file:///tmp/ipykernel_30958/1195826806.py#23\" target=\"_blank\"><span style=\"color: #7f7f7f; text-decoration-color: #7f7f7f\">23</span></a>\n",
       "</pre>\n"
      ],
      "text/plain": [
       "\u001b[2;36m          \u001b[0m\u001b[2;36m \u001b[0m\u001b[36mPlotting most common words\u001b[0m\u001b[36m...\u001b[0m                                                           \u001b]8;id=878216;file:///tmp/ipykernel_30958/1195826806.py\u001b\\\u001b[2m1195826806.py\u001b[0m\u001b]8;;\u001b\\\u001b[2m:\u001b[0m\u001b]8;id=53080;file:///tmp/ipykernel_30958/1195826806.py#23\u001b\\\u001b[2m23\u001b[0m\u001b]8;;\u001b\\\n"
      ]
     },
     "metadata": {},
     "output_type": "display_data"
    },
    {
     "data": {
      "image/png": "[encoded data removed]",
      "text/plain": [
       "<Figure size 1000x500 with 1 Axes>"
      ]
     },
     "metadata": {},
     "output_type": "display_data"
    },
    {
     "data": {
      "text/html": [
       "<pre style=\"white-space:pre;overflow-x:auto;line-height:normal;font-family:Menlo,'DejaVu Sans Mono',consolas,'Courier New',monospace\"><span style=\"color: #7fbfbf; text-decoration-color: #7fbfbf\">           </span><span style=\"color: #008000; text-decoration-color: #008000\">✅ Visualization complete</span>                                                               <a href=\"file:///tmp/ipykernel_30958/1195826806.py\" target=\"_blank\"><span style=\"color: #7f7f7f; text-decoration-color: #7f7f7f\">1195826806.py</span></a><span style=\"color: #7f7f7f; text-decoration-color: #7f7f7f\">:</span><a href=\"file:///tmp/ipykernel_30958/1195826806.py#29\" target=\"_blank\"><span style=\"color: #7f7f7f; text-decoration-color: #7f7f7f\">29</span></a>\n",
       "</pre>\n"
      ],
      "text/plain": [
       "\u001b[2;36m          \u001b[0m\u001b[2;36m \u001b[0m\u001b[32m✅ Visualization complete\u001b[0m                                                               \u001b]8;id=950847;file:///tmp/ipykernel_30958/1195826806.py\u001b\\\u001b[2m1195826806.py\u001b[0m\u001b]8;;\u001b\\\u001b[2m:\u001b[0m\u001b]8;id=478583;file:///tmp/ipykernel_30958/1195826806.py#29\u001b\\\u001b[2m29\u001b[0m\u001b]8;;\u001b\\\n"
      ]
     },
     "metadata": {},
     "output_type": "display_data"
    }
   ],
   "source": [
    "# ======================================================\n",
    "# Step 4 – Data Visualization\n",
    "# ======================================================\n",
    "\n",
    "from collections import Counter\n",
    "\n",
    "def visualize_data(df):\n",
    "    \"\"\"Plots distribution of text lengths and most common words.\"\"\"\n",
    "    try:\n",
    "        console.log(\"[cyan]Plotting text length distribution...[/cyan]\")\n",
    "        plt.figure(figsize=(8, 5))\n",
    "        sns.histplot(df[\"length\"], bins=50, kde=True)\n",
    "        plt.title(\"Distribution of Text Lengths\")\n",
    "        plt.xlabel(\"Number of Characters\")\n",
    "        plt.ylabel(\"Frequency\")\n",
    "        plt.show()\n",
    "\n",
    "        console.log(\"[cyan]Extracting top 20 most common words...[/cyan]\")\n",
    "        all_words = \" \".join(df[\"text\"]).lower().split()\n",
    "        word_counts = Counter(all_words)\n",
    "        common_words = pd.DataFrame(word_counts.most_common(20), columns=[\"word\", \"count\"])\n",
    "\n",
    "        console.log(\"[cyan]Plotting most common words...[/cyan]\")\n",
    "        plt.figure(figsize=(10, 5))\n",
    "        sns.barplot(x=\"count\", y=\"word\", data=common_words)\n",
    "        plt.title(\"Top 20 Most Common Words\")\n",
    "        plt.show()\n",
    "\n",
    "        console.log(\"[green]✅ Visualization complete[/green]\")\n",
    "\n",
    "    except Exception as e:\n",
    "        console.log(\"[red]❌ Visualization step failed[/red]\")\n",
    "        console.print_exception()\n",
    "\n",
    "try:\n",
    "    log_step(\"Step 4 – Data Visualization\")\n",
    "    visualize_data(df_clean)\n",
    "except Exception as e:\n",
    "    console.log(\"[red]❌ Could not generate visualizations[/red]\")\n",
    "    console.print_exception()"
   ]
  },
  {
   "cell_type": "markdown",
   "id": "75f2d65e",
   "metadata": {},
   "source": [
    "## Step 5"
   ]
  },
  {
   "cell_type": "code",
   "execution_count": 5,
   "id": "5fd49218",
   "metadata": {},
   "outputs": [
    {
     "data": {
      "text/html": [
       "<pre style=\"white-space:pre;overflow-x:auto;line-height:normal;font-family:Menlo,'DejaVu Sans Mono',consolas,'Courier New',monospace\"><span style=\"color: #00ff00; text-decoration-color: #00ff00\">────────────────────────────────────────────── </span><span style=\"color: #000080; text-decoration-color: #000080; font-weight: bold\">Step </span><span style=\"color: #000080; text-decoration-color: #000080; font-weight: bold\">5</span><span style=\"color: #000080; text-decoration-color: #000080; font-weight: bold\"> – Tokenization</span><span style=\"color: #00ff00; text-decoration-color: #00ff00\"> ──────────────────────────────────────────────</span>\n",
       "</pre>\n"
      ],
      "text/plain": [
       "\u001b[92m────────────────────────────────────────────── \u001b[0m\u001b[1;34mStep \u001b[0m\u001b[1;34m5\u001b[0m\u001b[1;34m – Tokenization\u001b[0m\u001b[92m ──────────────────────────────────────────────\u001b[0m\n"
      ]
     },
     "metadata": {},
     "output_type": "display_data"
    },
    {
     "data": {
      "text/html": [
       "<pre style=\"white-space:pre;overflow-x:auto;line-height:normal;font-family:Menlo,'DejaVu Sans Mono',consolas,'Courier New',monospace\"><span style=\"color: #7fbfbf; text-decoration-color: #7fbfbf\">           </span><span style=\"color: #008080; text-decoration-color: #008080\">Formatting dataset...</span>                                                                   <a href=\"file:///tmp/ipykernel_30958/1033110579.py\" target=\"_blank\"><span style=\"color: #7f7f7f; text-decoration-color: #7f7f7f\">1033110579.py</span></a><span style=\"color: #7f7f7f; text-decoration-color: #7f7f7f\">:</span><a href=\"file:///tmp/ipykernel_30958/1033110579.py#38\" target=\"_blank\"><span style=\"color: #7f7f7f; text-decoration-color: #7f7f7f\">38</span></a>\n",
       "</pre>\n"
      ],
      "text/plain": [
       "\u001b[2;36m          \u001b[0m\u001b[2;36m \u001b[0m\u001b[36mFormatting dataset\u001b[0m\u001b[36m...\u001b[0m                                                                   \u001b]8;id=653083;file:///tmp/ipykernel_30958/1033110579.py\u001b\\\u001b[2m1033110579.py\u001b[0m\u001b]8;;\u001b\\\u001b[2m:\u001b[0m\u001b]8;id=916362;file:///tmp/ipykernel_30958/1033110579.py#38\u001b\\\u001b[2m38\u001b[0m\u001b]8;;\u001b\\\n"
      ]
     },
     "metadata": {},
     "output_type": "display_data"
    },
    {
     "data": {
      "text/html": [
       "<pre style=\"white-space:pre;overflow-x:auto;line-height:normal;font-family:Menlo,'DejaVu Sans Mono',consolas,'Courier New',monospace\"><span style=\"color: #7fbfbf; text-decoration-color: #7fbfbf\">[20:39:44] </span><span style=\"color: #008080; text-decoration-color: #008080\">Saving formatted dataset to pediatric_chatbot.json...</span>                                   <a href=\"file:///tmp/ipykernel_30958/1033110579.py\" target=\"_blank\"><span style=\"color: #7f7f7f; text-decoration-color: #7f7f7f\">1033110579.py</span></a><span style=\"color: #7f7f7f; text-decoration-color: #7f7f7f\">:</span><a href=\"file:///tmp/ipykernel_30958/1033110579.py#41\" target=\"_blank\"><span style=\"color: #7f7f7f; text-decoration-color: #7f7f7f\">41</span></a>\n",
       "</pre>\n"
      ],
      "text/plain": [
       "\u001b[2;36m[20:39:44]\u001b[0m\u001b[2;36m \u001b[0m\u001b[36mSaving formatted dataset to pediatric_chatbot.json\u001b[0m\u001b[36m...\u001b[0m                                   \u001b]8;id=272008;file:///tmp/ipykernel_30958/1033110579.py\u001b\\\u001b[2m1033110579.py\u001b[0m\u001b]8;;\u001b\\\u001b[2m:\u001b[0m\u001b]8;id=949903;file:///tmp/ipykernel_30958/1033110579.py#41\u001b\\\u001b[2m41\u001b[0m\u001b]8;;\u001b\\\n"
      ]
     },
     "metadata": {},
     "output_type": "display_data"
    },
    {
     "data": {
      "text/html": [
       "<pre style=\"white-space:pre;overflow-x:auto;line-height:normal;font-family:Menlo,'DejaVu Sans Mono',consolas,'Courier New',monospace\"><span style=\"color: #7fbfbf; text-decoration-color: #7fbfbf\">[20:39:45] </span><span style=\"color: #008080; text-decoration-color: #008080\">Loading tokenizer...</span>                                                                    <a href=\"file:///tmp/ipykernel_30958/1033110579.py\" target=\"_blank\"><span style=\"color: #7f7f7f; text-decoration-color: #7f7f7f\">1033110579.py</span></a><span style=\"color: #7f7f7f; text-decoration-color: #7f7f7f\">:</span><a href=\"file:///tmp/ipykernel_30958/1033110579.py#45\" target=\"_blank\"><span style=\"color: #7f7f7f; text-decoration-color: #7f7f7f\">45</span></a>\n",
       "</pre>\n"
      ],
      "text/plain": [
       "\u001b[2;36m[20:39:45]\u001b[0m\u001b[2;36m \u001b[0m\u001b[36mLoading tokenizer\u001b[0m\u001b[36m...\u001b[0m                                                                    \u001b]8;id=20452;file:///tmp/ipykernel_30958/1033110579.py\u001b\\\u001b[2m1033110579.py\u001b[0m\u001b]8;;\u001b\\\u001b[2m:\u001b[0m\u001b]8;id=926519;file:///tmp/ipykernel_30958/1033110579.py#45\u001b\\\u001b[2m45\u001b[0m\u001b]8;;\u001b\\\n"
      ]
     },
     "metadata": {},
     "output_type": "display_data"
    },
    {
     "data": {
      "text/html": [
       "<pre style=\"white-space:pre;overflow-x:auto;line-height:normal;font-family:Menlo,'DejaVu Sans Mono',consolas,'Courier New',monospace\"><span style=\"color: #7fbfbf; text-decoration-color: #7fbfbf\">[20:39:50] </span><span style=\"color: #008080; text-decoration-color: #008080\">Loading dataset into Hugging Face format...</span>                                             <a href=\"file:///tmp/ipykernel_30958/1033110579.py\" target=\"_blank\"><span style=\"color: #7f7f7f; text-decoration-color: #7f7f7f\">1033110579.py</span></a><span style=\"color: #7f7f7f; text-decoration-color: #7f7f7f\">:</span><a href=\"file:///tmp/ipykernel_30958/1033110579.py#51\" target=\"_blank\"><span style=\"color: #7f7f7f; text-decoration-color: #7f7f7f\">51</span></a>\n",
       "</pre>\n"
      ],
      "text/plain": [
       "\u001b[2;36m[20:39:50]\u001b[0m\u001b[2;36m \u001b[0m\u001b[36mLoading dataset into Hugging Face format\u001b[0m\u001b[36m...\u001b[0m                                             \u001b]8;id=18784;file:///tmp/ipykernel_30958/1033110579.py\u001b\\\u001b[2m1033110579.py\u001b[0m\u001b]8;;\u001b\\\u001b[2m:\u001b[0m\u001b]8;id=614890;file:///tmp/ipykernel_30958/1033110579.py#51\u001b\\\u001b[2m51\u001b[0m\u001b]8;;\u001b\\\n"
      ]
     },
     "metadata": {},
     "output_type": "display_data"
    },
    {
     "data": {
      "application/vnd.jupyter.widget-view+json": {
       "model_id": "a5416f77ba524071a88d6bcc66282fba",
       "version_major": 2,
       "version_minor": 0
      },
      "text/plain": [
       "Generating train split: 0 examples [00:00, ? examples/s]"
      ]
     },
     "metadata": {},
     "output_type": "display_data"
    },
    {
     "data": {
      "text/html": [
       "<pre style=\"white-space:pre;overflow-x:auto;line-height:normal;font-family:Menlo,'DejaVu Sans Mono',consolas,'Courier New',monospace\"><span style=\"color: #7fbfbf; text-decoration-color: #7fbfbf\">[20:39:52] </span><span style=\"color: #008080; text-decoration-color: #008080\">Tokenizing dataset with labels...</span>                                                       <a href=\"file:///tmp/ipykernel_30958/1033110579.py\" target=\"_blank\"><span style=\"color: #7f7f7f; text-decoration-color: #7f7f7f\">1033110579.py</span></a><span style=\"color: #7f7f7f; text-decoration-color: #7f7f7f\">:</span><a href=\"file:///tmp/ipykernel_30958/1033110579.py#54\" target=\"_blank\"><span style=\"color: #7f7f7f; text-decoration-color: #7f7f7f\">54</span></a>\n",
       "</pre>\n"
      ],
      "text/plain": [
       "\u001b[2;36m[20:39:52]\u001b[0m\u001b[2;36m \u001b[0m\u001b[36mTokenizing dataset with labels\u001b[0m\u001b[36m...\u001b[0m                                                       \u001b]8;id=406203;file:///tmp/ipykernel_30958/1033110579.py\u001b\\\u001b[2m1033110579.py\u001b[0m\u001b]8;;\u001b\\\u001b[2m:\u001b[0m\u001b]8;id=544029;file:///tmp/ipykernel_30958/1033110579.py#54\u001b\\\u001b[2m54\u001b[0m\u001b]8;;\u001b\\\n"
      ]
     },
     "metadata": {},
     "output_type": "display_data"
    },
    {
     "data": {
      "application/vnd.jupyter.widget-view+json": {
       "model_id": "ad00e2ce4fde41b9983234154e78bbe8",
       "version_major": 2,
       "version_minor": 0
      },
      "text/plain": [
       "Map:   0%|          | 0/12777 [00:00<?, ? examples/s]"
      ]
     },
     "metadata": {},
     "output_type": "display_data"
    },
    {
     "data": {
      "text/html": [
       "<pre style=\"white-space:pre;overflow-x:auto;line-height:normal;font-family:Menlo,'DejaVu Sans Mono',consolas,'Courier New',monospace\"><span style=\"color: #7fbfbf; text-decoration-color: #7fbfbf\">[20:40:44] </span><span style=\"color: #008000; text-decoration-color: #008000\">✅ Tokenization complete</span>                                                                <a href=\"file:///tmp/ipykernel_30958/1033110579.py\" target=\"_blank\"><span style=\"color: #7f7f7f; text-decoration-color: #7f7f7f\">1033110579.py</span></a><span style=\"color: #7f7f7f; text-decoration-color: #7f7f7f\">:</span><a href=\"file:///tmp/ipykernel_30958/1033110579.py#67\" target=\"_blank\"><span style=\"color: #7f7f7f; text-decoration-color: #7f7f7f\">67</span></a>\n",
       "</pre>\n"
      ],
      "text/plain": [
       "\u001b[2;36m[20:40:44]\u001b[0m\u001b[2;36m \u001b[0m\u001b[32m✅ Tokenization complete\u001b[0m                                                                \u001b]8;id=399317;file:///tmp/ipykernel_30958/1033110579.py\u001b\\\u001b[2m1033110579.py\u001b[0m\u001b]8;;\u001b\\\u001b[2m:\u001b[0m\u001b]8;id=173777;file:///tmp/ipykernel_30958/1033110579.py#67\u001b\\\u001b[2m67\u001b[0m\u001b]8;;\u001b\\\n"
      ]
     },
     "metadata": {},
     "output_type": "display_data"
    }
   ],
   "source": [
    "# ======================================================\n",
    "# Step 5 – Tokenization (with labels for CausalLM)\n",
    "# ======================================================\n",
    "\n",
    "SYSTEM_PROMPT = (\n",
    "    \"You are a pediatric pulmonology assistant. You explain pediatric lung and airway issues \"\n",
    "    \"in clear, safe, and simple terms. You provide mild home care tips for non-critical symptoms, \"\n",
    "    \"and advise seeing a doctor if symptoms worsen or are severe.\"\n",
    ")\n",
    "\n",
    "def format_dataset(df):\n",
    "    \"\"\"Formats dataset into instruction-response pairs with safety guidance.\"\"\"\n",
    "    formatted = []\n",
    "    for _, row in df.iterrows():\n",
    "        output = (\n",
    "            f\"{row['text']}\\n\\n\"\n",
    "            \"💡 **Simple Home Tips:**\\n\"\n",
    "            \"- Keep child’s environment smoke-free.\\n\"\n",
    "            \"- Maintain good hydration and rest.\\n\"\n",
    "            \"- Avoid triggers like dust, cold air, strong smells.\\n\"\n",
    "            \"- Use a humidifier in dry environments.\\n\\n\"\n",
    "            \"🚨 **See a doctor if:**\\n\"\n",
    "            \"- Breathing becomes fast, noisy, or difficult.\\n\"\n",
    "            \"- Child’s lips or face turn bluish.\\n\"\n",
    "            \"- Fever persists or symptoms worsen.\\n\"\n",
    "            \"- Persistent wheezing, coughing fits, or chest pain.\"\n",
    "        )\n",
    "        formatted.append({\n",
    "            \"instruction\": \"Explain this pediatric pulmonology information with safe advice and escalation guidance.\",\n",
    "            \"input\": row[\"text\"],\n",
    "            \"output\": output\n",
    "        })\n",
    "    return formatted\n",
    "\n",
    "def tokenize_dataset(input_file=\"pediatric_chatbot.json\"):\n",
    "    \"\"\"Loads JSON dataset and tokenizes for model training.\"\"\"\n",
    "    try:\n",
    "        console.log(\"[cyan]Formatting dataset...[/cyan]\")\n",
    "        formatted_dataset = format_dataset(df_clean)\n",
    "\n",
    "        console.log(f\"[cyan]Saving formatted dataset to {input_file}...[/cyan]\")\n",
    "        with open(input_file, \"w\") as f:\n",
    "            json.dump(formatted_dataset, f, indent=2)\n",
    "\n",
    "        console.log(\"[cyan]Loading tokenizer...[/cyan]\")\n",
    "        model_name = \"TinyLlama/TinyLlama-1.1B-Chat-v1.0\"\n",
    "        tokenizer = AutoTokenizer.from_pretrained(model_name, use_fast=True)\n",
    "        if tokenizer.pad_token is None:\n",
    "            tokenizer.pad_token = tokenizer.eos_token\n",
    "\n",
    "        console.log(\"[cyan]Loading dataset into Hugging Face format...[/cyan]\")\n",
    "        dataset = load_dataset(\"json\", data_files=input_file)\n",
    "\n",
    "        console.log(\"[cyan]Tokenizing dataset with labels...[/cyan]\")\n",
    "        def tokenize_fn(examples):\n",
    "            texts = [\n",
    "                f\"{SYSTEM_PROMPT}\\n\\nInstruction: {inst}\\nInput: {inp}\\nOutput: {out}\"\n",
    "                for inst, inp, out in zip(examples[\"instruction\"], examples[\"input\"], examples[\"output\"])\n",
    "            ]\n",
    "            tokenized = tokenizer(texts, truncation=True, max_length=2048, padding=\"max_length\")\n",
    "            tokenized[\"labels\"] = tokenized[\"input_ids\"].copy()  # ✅ for loss computation\n",
    "            return tokenized\n",
    "\n",
    "        tokenized_dataset = dataset.map(tokenize_fn, batched=True, remove_columns=dataset[\"train\"].column_names)\n",
    "        tokenized_dataset = tokenized_dataset[\"train\"].train_test_split(test_size=0.1)\n",
    "\n",
    "        console.log(\"[green]✅ Tokenization complete[/green]\")\n",
    "        return tokenized_dataset, tokenizer, model_name\n",
    "\n",
    "    except Exception as e:\n",
    "        console.log(\"[red]❌ Tokenization step failed[/red]\")\n",
    "        console.print_exception()\n",
    "        return None, None, None\n",
    "\n",
    "try:\n",
    "    log_step(\"Step 5 – Tokenization\")\n",
    "    tokenized_dataset, tokenizer, model_name = tokenize_dataset()\n",
    "except Exception as e:\n",
    "    console.log(\"[red]❌ Could not complete tokenization[/red]\")\n",
    "    console.print_exception()"
   ]
  },
  {
   "cell_type": "markdown",
   "id": "8c86fb61",
   "metadata": {},
   "source": [
    "## Step 6"
   ]
  },
  {
   "cell_type": "code",
   "execution_count": null,
   "id": "e27d62d1-80cf-4f73-8c8a-8368c887fe1e",
   "metadata": {},
   "outputs": [
    {
     "data": {
      "text/html": [
       "<pre style=\"white-space:pre;overflow-x:auto;line-height:normal;font-family:Menlo,'DejaVu Sans Mono',consolas,'Courier New',monospace\"><span style=\"color: #00ff00; text-decoration-color: #00ff00\">─────────────────────────────────────────── </span><span style=\"color: #000080; text-decoration-color: #000080; font-weight: bold\">Step </span><span style=\"color: #000080; text-decoration-color: #000080; font-weight: bold\">6</span><span style=\"color: #000080; text-decoration-color: #000080; font-weight: bold\"> – Model Fine-Tuning</span><span style=\"color: #00ff00; text-decoration-color: #00ff00\"> ────────────────────────────────────────────</span>\n",
       "</pre>\n"
      ],
      "text/plain": [
       "\u001b[92m─────────────────────────────────────────── \u001b[0m\u001b[1;34mStep \u001b[0m\u001b[1;34m6\u001b[0m\u001b[1;34m – Model Fine-Tuning\u001b[0m\u001b[92m ────────────────────────────────────────────\u001b[0m\n"
      ]
     },
     "metadata": {},
     "output_type": "display_data"
    },
    {
     "data": {
      "text/html": [
       "<pre style=\"white-space:pre;overflow-x:auto;line-height:normal;font-family:Menlo,'DejaVu Sans Mono',consolas,'Courier New',monospace\"><span style=\"color: #7fbfbf; text-decoration-color: #7fbfbf\">[20:41:32] </span><span style=\"color: #008080; text-decoration-color: #008080\">Loading base model </span><span style=\"color: #008080; text-decoration-color: #008080; font-weight: bold\">(</span><span style=\"color: #008080; text-decoration-color: #008080\">full precision, CPU mode</span><span style=\"color: #008080; text-decoration-color: #008080; font-weight: bold\">)</span><span style=\"color: #008080; text-decoration-color: #008080\">...</span>                                         <a href=\"file:///tmp/ipykernel_30958/1592299403.py\" target=\"_blank\"><span style=\"color: #7f7f7f; text-decoration-color: #7f7f7f\">1592299403.py</span></a><span style=\"color: #7f7f7f; text-decoration-color: #7f7f7f\">:</span><a href=\"file:///tmp/ipykernel_30958/1592299403.py#8\" target=\"_blank\"><span style=\"color: #7f7f7f; text-decoration-color: #7f7f7f\">8</span></a>\n",
       "</pre>\n"
      ],
      "text/plain": [
       "\u001b[2;36m[20:41:32]\u001b[0m\u001b[2;36m \u001b[0m\u001b[36mLoading base model \u001b[0m\u001b[1;36m(\u001b[0m\u001b[36mfull precision, CPU mode\u001b[0m\u001b[1;36m)\u001b[0m\u001b[36m...\u001b[0m                                         \u001b]8;id=864618;file:///tmp/ipykernel_30958/1592299403.py\u001b\\\u001b[2m1592299403.py\u001b[0m\u001b]8;;\u001b\\\u001b[2m:\u001b[0m\u001b]8;id=617342;file:///tmp/ipykernel_30958/1592299403.py#8\u001b\\\u001b[2m8\u001b[0m\u001b]8;;\u001b\\\n"
      ]
     },
     "metadata": {},
     "output_type": "display_data"
    },
    {
     "data": {
      "text/html": [
       "<pre style=\"white-space:pre;overflow-x:auto;line-height:normal;font-family:Menlo,'DejaVu Sans Mono',consolas,'Courier New',monospace\"><span style=\"color: #7fbfbf; text-decoration-color: #7fbfbf\">[20:41:34] </span><span style=\"color: #008080; text-decoration-color: #008080\">Applying LoRA configuration...</span>                                                          <a href=\"file:///tmp/ipykernel_30958/1592299403.py\" target=\"_blank\"><span style=\"color: #7f7f7f; text-decoration-color: #7f7f7f\">1592299403.py</span></a><span style=\"color: #7f7f7f; text-decoration-color: #7f7f7f\">:</span><a href=\"file:///tmp/ipykernel_30958/1592299403.py#14\" target=\"_blank\"><span style=\"color: #7f7f7f; text-decoration-color: #7f7f7f\">14</span></a>\n",
       "</pre>\n"
      ],
      "text/plain": [
       "\u001b[2;36m[20:41:34]\u001b[0m\u001b[2;36m \u001b[0m\u001b[36mApplying LoRA configuration\u001b[0m\u001b[36m...\u001b[0m                                                          \u001b]8;id=455115;file:///tmp/ipykernel_30958/1592299403.py\u001b\\\u001b[2m1592299403.py\u001b[0m\u001b]8;;\u001b\\\u001b[2m:\u001b[0m\u001b]8;id=239080;file:///tmp/ipykernel_30958/1592299403.py#14\u001b\\\u001b[2m14\u001b[0m\u001b]8;;\u001b\\\n"
      ]
     },
     "metadata": {},
     "output_type": "display_data"
    },
    {
     "data": {
      "text/html": [
       "<pre style=\"white-space:pre;overflow-x:auto;line-height:normal;font-family:Menlo,'DejaVu Sans Mono',consolas,'Courier New',monospace\"><span style=\"color: #7fbfbf; text-decoration-color: #7fbfbf\">           </span><span style=\"color: #008080; text-decoration-color: #008080\">Setting up training arguments...</span>                                                        <a href=\"file:///tmp/ipykernel_30958/1592299403.py\" target=\"_blank\"><span style=\"color: #7f7f7f; text-decoration-color: #7f7f7f\">1592299403.py</span></a><span style=\"color: #7f7f7f; text-decoration-color: #7f7f7f\">:</span><a href=\"file:///tmp/ipykernel_30958/1592299403.py#24\" target=\"_blank\"><span style=\"color: #7f7f7f; text-decoration-color: #7f7f7f\">24</span></a>\n",
       "</pre>\n"
      ],
      "text/plain": [
       "\u001b[2;36m          \u001b[0m\u001b[2;36m \u001b[0m\u001b[36mSetting up training arguments\u001b[0m\u001b[36m...\u001b[0m                                                        \u001b]8;id=369845;file:///tmp/ipykernel_30958/1592299403.py\u001b\\\u001b[2m1592299403.py\u001b[0m\u001b]8;;\u001b\\\u001b[2m:\u001b[0m\u001b]8;id=348097;file:///tmp/ipykernel_30958/1592299403.py#24\u001b\\\u001b[2m24\u001b[0m\u001b]8;;\u001b\\\n"
      ]
     },
     "metadata": {},
     "output_type": "display_data"
    },
    {
     "data": {
      "text/html": [
       "<pre style=\"white-space:pre;overflow-x:auto;line-height:normal;font-family:Menlo,'DejaVu Sans Mono',consolas,'Courier New',monospace\"><span style=\"color: #7fbfbf; text-decoration-color: #7fbfbf\">           </span><span style=\"color: #008080; text-decoration-color: #008080\">Initializing Trainer...</span>                                                                 <a href=\"file:///tmp/ipykernel_30958/1592299403.py\" target=\"_blank\"><span style=\"color: #7f7f7f; text-decoration-color: #7f7f7f\">1592299403.py</span></a><span style=\"color: #7f7f7f; text-decoration-color: #7f7f7f\">:</span><a href=\"file:///tmp/ipykernel_30958/1592299403.py#39\" target=\"_blank\"><span style=\"color: #7f7f7f; text-decoration-color: #7f7f7f\">39</span></a>\n",
       "</pre>\n"
      ],
      "text/plain": [
       "\u001b[2;36m          \u001b[0m\u001b[2;36m \u001b[0m\u001b[36mInitializing Trainer\u001b[0m\u001b[36m...\u001b[0m                                                                 \u001b]8;id=351513;file:///tmp/ipykernel_30958/1592299403.py\u001b\\\u001b[2m1592299403.py\u001b[0m\u001b]8;;\u001b\\\u001b[2m:\u001b[0m\u001b]8;id=349344;file:///tmp/ipykernel_30958/1592299403.py#39\u001b\\\u001b[2m39\u001b[0m\u001b]8;;\u001b\\\n"
      ]
     },
     "metadata": {},
     "output_type": "display_data"
    },
    {
     "data": {
      "text/html": [
       "<pre style=\"white-space:pre;overflow-x:auto;line-height:normal;font-family:Menlo,'DejaVu Sans Mono',consolas,'Courier New',monospace\"><span style=\"color: #7fbfbf; text-decoration-color: #7fbfbf\">           </span><span style=\"color: #008080; text-decoration-color: #008080\">Starting training...</span>                                                                    <a href=\"file:///tmp/ipykernel_30958/1592299403.py\" target=\"_blank\"><span style=\"color: #7f7f7f; text-decoration-color: #7f7f7f\">1592299403.py</span></a><span style=\"color: #7f7f7f; text-decoration-color: #7f7f7f\">:</span><a href=\"file:///tmp/ipykernel_30958/1592299403.py#48\" target=\"_blank\"><span style=\"color: #7f7f7f; text-decoration-color: #7f7f7f\">48</span></a>\n",
       "</pre>\n"
      ],
      "text/plain": [
       "\u001b[2;36m          \u001b[0m\u001b[2;36m \u001b[0m\u001b[36mStarting training\u001b[0m\u001b[36m...\u001b[0m                                                                    \u001b]8;id=256787;file:///tmp/ipykernel_30958/1592299403.py\u001b\\\u001b[2m1592299403.py\u001b[0m\u001b]8;;\u001b\\\u001b[2m:\u001b[0m\u001b]8;id=234053;file:///tmp/ipykernel_30958/1592299403.py#48\u001b\\\u001b[2m48\u001b[0m\u001b]8;;\u001b\\\n"
      ]
     },
     "metadata": {},
     "output_type": "display_data"
    },
    {
     "data": {
      "text/html": [
       "\n",
       "    <div>\n",
       "      \n",
       "      <progress value='2' max='4314' style='width:300px; height:20px; vertical-align: middle;'></progress>\n",
       "      [   2/4314 : < :, Epoch 0.00/3]\n",
       "    </div>\n",
       "    <table border=\"1\" class=\"dataframe\">\n",
       "  <thead>\n",
       " <tr style=\"text-align: left;\">\n",
       "      <th>Step</th>\n",
       "      <th>Training Loss</th>\n",
       "    </tr>\n",
       "  </thead>\n",
       "  <tbody>\n",
       "  </tbody>\n",
       "</table><p>"
      ],
      "text/plain": [
       "<IPython.core.display.HTML object>"
      ]
     },
     "metadata": {},
     "output_type": "display_data"
    }
   ],
   "source": [
    "# ======================================================\n",
    "# Step 6 – Model Fine-Tuning (LoRA on TinyLlama-1.1B)\n",
    "# ======================================================\n",
    "\n",
    "def finetune_model(tokenized_dataset, tokenizer, model_name):\n",
    "    \"\"\"Fine-tunes TinyLlama with LoRA on the prepared dataset.\"\"\"\n",
    "    try:\n",
    "        console.log(\"[cyan]Loading base model (full precision, CPU mode)...[/cyan]\")\n",
    "        model = AutoModelForCausalLM.from_pretrained(\n",
    "            model_name,\n",
    "            device_map=\"auto\"  # CPU in your case\n",
    "        )\n",
    "\n",
    "        console.log(\"[cyan]Applying LoRA configuration...[/cyan]\")\n",
    "        lora_config = LoraConfig(\n",
    "            task_type=\"CAUSAL_LM\",\n",
    "            r=8,\n",
    "            lora_alpha=32,\n",
    "            lora_dropout=0.05,\n",
    "            bias=\"none\"\n",
    "        )\n",
    "        model = get_peft_model(model, lora_config)\n",
    "\n",
    "        console.log(\"[cyan]Setting up training arguments...[/cyan]\")\n",
    "        training_args = TrainingArguments(\n",
    "            output_dir=\"./tinyllama-medical\",\n",
    "            per_device_train_batch_size=2,\n",
    "            gradient_accumulation_steps=4,\n",
    "            learning_rate=2e-4,\n",
    "            num_train_epochs=3,\n",
    "            save_strategy=\"epoch\",\n",
    "            logging_dir=\"./logs\",\n",
    "            logging_steps=1,                 # ✅ show logs every step\n",
    "            report_to=\"none\",                 # ✅ no WandB/Hub logging\n",
    "            fp16=False,                       # ✅ CPU\n",
    "            dataloader_pin_memory=False       # ✅ remove GPU pin warning\n",
    "        )\n",
    "\n",
    "        console.log(\"[cyan]Initializing Trainer...[/cyan]\")\n",
    "        trainer = Trainer(\n",
    "            model=model,\n",
    "            args=training_args,\n",
    "            train_dataset=tokenized_dataset[\"train\"],\n",
    "            eval_dataset=tokenized_dataset[\"test\"],\n",
    "            processing_class=tokenizer,       # ✅ future-proof\n",
    "        )\n",
    "\n",
    "        console.log(\"[cyan]Starting training...[/cyan]\")\n",
    "        trainer.train()\n",
    "\n",
    "        console.log(\"[green]✅ Fine-tuning complete. Saving model...[/green]\")\n",
    "        model.save_pretrained(\"./tinyllama-medical\")\n",
    "        tokenizer.save_pretrained(\"./tinyllama-medical\")\n",
    "\n",
    "        return model\n",
    "\n",
    "    except Exception as e:\n",
    "        console.log(\"[red]❌ Fine-tuning step failed[/red]\")\n",
    "        console.print_exception()\n",
    "        return None\n",
    "\n",
    "try:\n",
    "    log_step(\"Step 6 – Model Fine-Tuning\")\n",
    "    model = finetune_model(tokenized_dataset, tokenizer, model_name)\n",
    "except Exception as e:\n",
    "    console.log(\"[red]❌ Could not complete model fine-tuning[/red]\")\n",
    "    console.print_exception()"
   ]
  },
  {
   "cell_type": "markdown",
   "id": "6277afb0",
   "metadata": {},
   "source": [
    "## Step 7"
   ]
  },
  {
   "cell_type": "code",
   "execution_count": 7,
   "id": "8a3cc450-36c8-417c-b402-b6f1920d91a8",
   "metadata": {},
   "outputs": [
    {
     "data": {
      "text/html": [
       "<pre style=\"white-space:pre;overflow-x:auto;line-height:normal;font-family:Menlo,'DejaVu Sans Mono',consolas,'Courier New',monospace\"><span style=\"color: #00ff00; text-decoration-color: #00ff00\">─────────────────────────────────────────────── </span><span style=\"color: #000080; text-decoration-color: #000080; font-weight: bold\">Step </span><span style=\"color: #000080; text-decoration-color: #000080; font-weight: bold\">7</span><span style=\"color: #000080; text-decoration-color: #000080; font-weight: bold\"> – Evaluation</span><span style=\"color: #00ff00; text-decoration-color: #00ff00\"> ───────────────────────────────────────────────</span>\n",
       "</pre>\n"
      ],
      "text/plain": [
       "\u001b[92m─────────────────────────────────────────────── \u001b[0m\u001b[1;34mStep \u001b[0m\u001b[1;34m7\u001b[0m\u001b[1;34m – Evaluation\u001b[0m\u001b[92m ───────────────────────────────────────────────\u001b[0m\n"
      ]
     },
     "metadata": {},
     "output_type": "display_data"
    },
    {
     "data": {
      "text/html": [
       "<pre style=\"white-space:pre;overflow-x:auto;line-height:normal;font-family:Menlo,'DejaVu Sans Mono',consolas,'Courier New',monospace\"><span style=\"color: #7fbfbf; text-decoration-color: #7fbfbf\">           </span><span style=\"color: #008080; text-decoration-color: #008080\">Loading pipeline for evaluation...</span>                                                       <a href=\"file:///tmp/ipykernel_30958/1973641506.py\" target=\"_blank\"><span style=\"color: #7f7f7f; text-decoration-color: #7f7f7f\">1973641506.py</span></a><span style=\"color: #7f7f7f; text-decoration-color: #7f7f7f\">:</span><a href=\"file:///tmp/ipykernel_30958/1973641506.py#8\" target=\"_blank\"><span style=\"color: #7f7f7f; text-decoration-color: #7f7f7f\">8</span></a>\n",
       "</pre>\n"
      ],
      "text/plain": [
       "\u001b[2;36m          \u001b[0m\u001b[2;36m \u001b[0m\u001b[36mLoading pipeline for evaluation\u001b[0m\u001b[36m...\u001b[0m                                                       \u001b]8;id=147757;file:///tmp/ipykernel_30958/1973641506.py\u001b\\\u001b[2m1973641506.py\u001b[0m\u001b]8;;\u001b\\\u001b[2m:\u001b[0m\u001b]8;id=273631;file:///tmp/ipykernel_30958/1973641506.py#8\u001b\\\u001b[2m8\u001b[0m\u001b]8;;\u001b\\\n"
      ]
     },
     "metadata": {},
     "output_type": "display_data"
    },
    {
     "data": {
      "text/html": [
       "<pre style=\"white-space:pre;overflow-x:auto;line-height:normal;font-family:Menlo,'DejaVu Sans Mono',consolas,'Courier New',monospace\"><span style=\"color: #7fbfbf; text-decoration-color: #7fbfbf\">           </span><span style=\"color: #800000; text-decoration-color: #800000\">❌ Evaluation step failed</span>                                                               <a href=\"file:///tmp/ipykernel_30958/1973641506.py\" target=\"_blank\"><span style=\"color: #7f7f7f; text-decoration-color: #7f7f7f\">1973641506.py</span></a><span style=\"color: #7f7f7f; text-decoration-color: #7f7f7f\">:</span><a href=\"file:///tmp/ipykernel_30958/1973641506.py#30\" target=\"_blank\"><span style=\"color: #7f7f7f; text-decoration-color: #7f7f7f\">30</span></a>\n",
       "</pre>\n"
      ],
      "text/plain": [
       "\u001b[2;36m          \u001b[0m\u001b[2;36m \u001b[0m\u001b[31m❌ Evaluation step failed\u001b[0m                                                               \u001b]8;id=379442;file:///tmp/ipykernel_30958/1973641506.py\u001b\\\u001b[2m1973641506.py\u001b[0m\u001b]8;;\u001b\\\u001b[2m:\u001b[0m\u001b]8;id=388641;file:///tmp/ipykernel_30958/1973641506.py#30\u001b\\\u001b[2m30\u001b[0m\u001b]8;;\u001b\\\n"
      ]
     },
     "metadata": {},
     "output_type": "display_data"
    },
    {
     "data": {
      "text/html": [
       "<pre style=\"white-space:pre;overflow-x:auto;line-height:normal;font-family:Menlo,'DejaVu Sans Mono',consolas,'Courier New',monospace\"><span style=\"color: #800000; text-decoration-color: #800000\">╭─────────────────────────────── </span><span style=\"color: #800000; text-decoration-color: #800000; font-weight: bold\">Traceback </span><span style=\"color: #bf7f7f; text-decoration-color: #bf7f7f; font-weight: bold\">(most recent call last)</span><span style=\"color: #800000; text-decoration-color: #800000\"> ────────────────────────────────╮</span>\n",
       "<span style=\"color: #800000; text-decoration-color: #800000\">│</span> in evaluate_model:9                                                                              <span style=\"color: #800000; text-decoration-color: #800000\">│</span>\n",
       "<span style=\"color: #800000; text-decoration-color: #800000\">│</span>                                                                                                  <span style=\"color: #800000; text-decoration-color: #800000\">│</span>\n",
       "<span style=\"color: #800000; text-decoration-color: #800000\">│</span>   <span style=\"color: #7f7f7f; text-decoration-color: #7f7f7f\"> 6 </span><span style=\"color: #bfbfbf; text-decoration-color: #bfbfbf\">│   </span><span style=\"color: #808000; text-decoration-color: #808000\">\"\"\"Runs a quick test prompt on the fine-tuned model.\"\"\"</span>                                 <span style=\"color: #800000; text-decoration-color: #800000\">│</span>\n",
       "<span style=\"color: #800000; text-decoration-color: #800000\">│</span>   <span style=\"color: #7f7f7f; text-decoration-color: #7f7f7f\"> 7 </span><span style=\"color: #7f7f7f; text-decoration-color: #7f7f7f\">│   </span><span style=\"color: #0000ff; text-decoration-color: #0000ff\">try</span>:                                                                                    <span style=\"color: #800000; text-decoration-color: #800000\">│</span>\n",
       "<span style=\"color: #800000; text-decoration-color: #800000\">│</span>   <span style=\"color: #7f7f7f; text-decoration-color: #7f7f7f\"> 8 </span><span style=\"color: #7f7f7f; text-decoration-color: #7f7f7f\">│   │   </span>console.log(<span style=\"color: #808000; text-decoration-color: #808000\">\"[cyan]Loading pipeline for evaluation...[/cyan]\"</span>)                      <span style=\"color: #800000; text-decoration-color: #800000\">│</span>\n",
       "<span style=\"color: #800000; text-decoration-color: #800000\">│</span> <span style=\"color: #800000; text-decoration-color: #800000\">❱ </span> 9 <span style=\"color: #7f7f7f; text-decoration-color: #7f7f7f\">│   │   </span>pipe = pipeline(                                                                    <span style=\"color: #800000; text-decoration-color: #800000\">│</span>\n",
       "<span style=\"color: #800000; text-decoration-color: #800000\">│</span>   <span style=\"color: #7f7f7f; text-decoration-color: #7f7f7f\">10 </span><span style=\"color: #7f7f7f; text-decoration-color: #7f7f7f\">│   │   │   </span><span style=\"color: #808000; text-decoration-color: #808000\">\"text-generation\"</span>,                                                              <span style=\"color: #800000; text-decoration-color: #800000\">│</span>\n",
       "<span style=\"color: #800000; text-decoration-color: #800000\">│</span>   <span style=\"color: #7f7f7f; text-decoration-color: #7f7f7f\">11 </span><span style=\"color: #7f7f7f; text-decoration-color: #7f7f7f\">│   │   │   </span>model=model,                                                                    <span style=\"color: #800000; text-decoration-color: #800000\">│</span>\n",
       "<span style=\"color: #800000; text-decoration-color: #800000\">│</span>   <span style=\"color: #7f7f7f; text-decoration-color: #7f7f7f\">12 </span><span style=\"color: #7f7f7f; text-decoration-color: #7f7f7f\">│   │   │   </span>tokenizer=tokenizer,                                                            <span style=\"color: #800000; text-decoration-color: #800000\">│</span>\n",
       "<span style=\"color: #800000; text-decoration-color: #800000\">│</span>                                                                                                  <span style=\"color: #800000; text-decoration-color: #800000\">│</span>\n",
       "<span style=\"color: #800000; text-decoration-color: #800000\">│</span> <span style=\"color: #7f7f7f; text-decoration-color: #7f7f7f\">/home/silver/anaconda3/lib/python3.13/site-packages/transformers/pipelines/</span><span style=\"font-weight: bold\">__init__.py</span>:847 in    <span style=\"color: #800000; text-decoration-color: #800000\">│</span>\n",
       "<span style=\"color: #800000; text-decoration-color: #800000\">│</span> pipeline                                                                                         <span style=\"color: #800000; text-decoration-color: #800000\">│</span>\n",
       "<span style=\"color: #800000; text-decoration-color: #800000\">│</span>                                                                                                  <span style=\"color: #800000; text-decoration-color: #800000\">│</span>\n",
       "<span style=\"color: #800000; text-decoration-color: #800000\">│</span>   <span style=\"color: #7f7f7f; text-decoration-color: #7f7f7f\"> 844 </span><span style=\"color: #7f7f7f; text-decoration-color: #7f7f7f\">│   │   </span>)                                                                                 <span style=\"color: #800000; text-decoration-color: #800000\">│</span>\n",
       "<span style=\"color: #800000; text-decoration-color: #800000\">│</span>   <span style=\"color: #7f7f7f; text-decoration-color: #7f7f7f\"> 845 </span><span style=\"color: #7f7f7f; text-decoration-color: #7f7f7f\">│   </span>                                                                                      <span style=\"color: #800000; text-decoration-color: #800000\">│</span>\n",
       "<span style=\"color: #800000; text-decoration-color: #800000\">│</span>   <span style=\"color: #7f7f7f; text-decoration-color: #7f7f7f\"> 846 </span><span style=\"color: #7f7f7f; text-decoration-color: #7f7f7f\">│   </span><span style=\"color: #0000ff; text-decoration-color: #0000ff\">if</span> model <span style=\"color: #ff00ff; text-decoration-color: #ff00ff\">is</span> <span style=\"color: #0000ff; text-decoration-color: #0000ff\">None</span> <span style=\"color: #ff00ff; text-decoration-color: #ff00ff\">and</span> tokenizer <span style=\"color: #ff00ff; text-decoration-color: #ff00ff\">is</span> <span style=\"color: #ff00ff; text-decoration-color: #ff00ff\">not</span> <span style=\"color: #0000ff; text-decoration-color: #0000ff\">None</span>:                                           <span style=\"color: #800000; text-decoration-color: #800000\">│</span>\n",
       "<span style=\"color: #800000; text-decoration-color: #800000\">│</span> <span style=\"color: #800000; text-decoration-color: #800000\">❱ </span> 847 <span style=\"color: #7f7f7f; text-decoration-color: #7f7f7f\">│   │   </span><span style=\"color: #0000ff; text-decoration-color: #0000ff; font-weight: bold; text-decoration: underline\">raise</span><span style=\"font-weight: bold; text-decoration: underline\"> </span><span style=\"color: #00ffff; text-decoration-color: #00ffff; font-weight: bold; text-decoration: underline\">RuntimeError</span><span style=\"font-weight: bold; text-decoration: underline\">(</span>                                                               <span style=\"color: #800000; text-decoration-color: #800000\">│</span>\n",
       "<span style=\"color: #800000; text-decoration-color: #800000\">│</span>   <span style=\"color: #7f7f7f; text-decoration-color: #7f7f7f\"> 848 </span><span style=\"color: #7f7f7f; text-decoration-color: #7f7f7f\">│   │   │   </span><span style=\"color: #808000; text-decoration-color: #808000; font-weight: bold; text-decoration: underline\">\"Impossible to instantiate a pipeline with tokenizer specified but not the m</span>  <span style=\"color: #800000; text-decoration-color: #800000\">│</span>\n",
       "<span style=\"color: #800000; text-decoration-color: #800000\">│</span>   <span style=\"color: #7f7f7f; text-decoration-color: #7f7f7f\"> 849 </span><span style=\"color: #7f7f7f; text-decoration-color: #7f7f7f\">│   │   │   </span><span style=\"color: #808000; text-decoration-color: #808000; font-weight: bold; text-decoration: underline\">\" may not be compatible with the default model. Please provide a PreTrainedM</span>  <span style=\"color: #800000; text-decoration-color: #800000\">│</span>\n",
       "<span style=\"color: #800000; text-decoration-color: #800000\">│</span>   <span style=\"color: #7f7f7f; text-decoration-color: #7f7f7f\"> 850 </span><span style=\"color: #7f7f7f; text-decoration-color: #7f7f7f\">│   │   │   </span><span style=\"color: #808000; text-decoration-color: #808000; font-weight: bold; text-decoration: underline\">\" path/identifier to a pretrained model when providing tokenizer.\"</span>            <span style=\"color: #800000; text-decoration-color: #800000\">│</span>\n",
       "<span style=\"color: #800000; text-decoration-color: #800000\">╰──────────────────────────────────────────────────────────────────────────────────────────────────╯</span>\n",
       "<span style=\"color: #ff0000; text-decoration-color: #ff0000; font-weight: bold\">RuntimeError: </span>Impossible to instantiate a pipeline with tokenizer specified but not the model as the provided \n",
       "tokenizer may not be compatible with the default model. Please provide a PreTrainedModel class or a path/identifier\n",
       "to a pretrained model when providing tokenizer.\n",
       "</pre>\n"
      ],
      "text/plain": [
       "\u001b[31m╭─\u001b[0m\u001b[31m──────────────────────────────\u001b[0m\u001b[31m \u001b[0m\u001b[1;31mTraceback \u001b[0m\u001b[1;2;31m(most recent call last)\u001b[0m\u001b[31m \u001b[0m\u001b[31m───────────────────────────────\u001b[0m\u001b[31m─╮\u001b[0m\n",
       "\u001b[31m│\u001b[0m in evaluate_model:9                                                                              \u001b[31m│\u001b[0m\n",
       "\u001b[31m│\u001b[0m                                                                                                  \u001b[31m│\u001b[0m\n",
       "\u001b[31m│\u001b[0m   \u001b[2m 6 \u001b[0m\u001b[2;90m│   \u001b[0m\u001b[33m\"\"\"Runs a quick test prompt on the fine-tuned model.\"\"\"\u001b[0m                                 \u001b[31m│\u001b[0m\n",
       "\u001b[31m│\u001b[0m   \u001b[2m 7 \u001b[0m\u001b[2m│   \u001b[0m\u001b[94mtry\u001b[0m:                                                                                    \u001b[31m│\u001b[0m\n",
       "\u001b[31m│\u001b[0m   \u001b[2m 8 \u001b[0m\u001b[2m│   │   \u001b[0mconsole.log(\u001b[33m\"\u001b[0m\u001b[33m[cyan]Loading pipeline for evaluation...[/cyan]\u001b[0m\u001b[33m\"\u001b[0m)                      \u001b[31m│\u001b[0m\n",
       "\u001b[31m│\u001b[0m \u001b[31m❱ \u001b[0m 9 \u001b[2m│   │   \u001b[0mpipe = pipeline(                                                                    \u001b[31m│\u001b[0m\n",
       "\u001b[31m│\u001b[0m   \u001b[2m10 \u001b[0m\u001b[2m│   │   │   \u001b[0m\u001b[33m\"\u001b[0m\u001b[33mtext-generation\u001b[0m\u001b[33m\"\u001b[0m,                                                              \u001b[31m│\u001b[0m\n",
       "\u001b[31m│\u001b[0m   \u001b[2m11 \u001b[0m\u001b[2m│   │   │   \u001b[0mmodel=model,                                                                    \u001b[31m│\u001b[0m\n",
       "\u001b[31m│\u001b[0m   \u001b[2m12 \u001b[0m\u001b[2m│   │   │   \u001b[0mtokenizer=tokenizer,                                                            \u001b[31m│\u001b[0m\n",
       "\u001b[31m│\u001b[0m                                                                                                  \u001b[31m│\u001b[0m\n",
       "\u001b[31m│\u001b[0m \u001b[2m/home/silver/anaconda3/lib/python3.13/site-packages/transformers/pipelines/\u001b[0m\u001b[1m__init__.py\u001b[0m:847 in    \u001b[31m│\u001b[0m\n",
       "\u001b[31m│\u001b[0m pipeline                                                                                         \u001b[31m│\u001b[0m\n",
       "\u001b[31m│\u001b[0m                                                                                                  \u001b[31m│\u001b[0m\n",
       "\u001b[31m│\u001b[0m   \u001b[2m 844 \u001b[0m\u001b[2m│   │   \u001b[0m)                                                                                 \u001b[31m│\u001b[0m\n",
       "\u001b[31m│\u001b[0m   \u001b[2m 845 \u001b[0m\u001b[2m│   \u001b[0m                                                                                      \u001b[31m│\u001b[0m\n",
       "\u001b[31m│\u001b[0m   \u001b[2m 846 \u001b[0m\u001b[2m│   \u001b[0m\u001b[94mif\u001b[0m model \u001b[95mis\u001b[0m \u001b[94mNone\u001b[0m \u001b[95mand\u001b[0m tokenizer \u001b[95mis\u001b[0m \u001b[95mnot\u001b[0m \u001b[94mNone\u001b[0m:                                           \u001b[31m│\u001b[0m\n",
       "\u001b[31m│\u001b[0m \u001b[31m❱ \u001b[0m 847 \u001b[2m│   │   \u001b[0m\u001b[1;4;94mraise\u001b[0m\u001b[1;4m \u001b[0m\u001b[1;4;96mRuntimeError\u001b[0m\u001b[1;4m(\u001b[0m                                                               \u001b[31m│\u001b[0m\n",
       "\u001b[31m│\u001b[0m   \u001b[2m 848 \u001b[0m\u001b[2m│   │   │   \u001b[0m\u001b[1;4;33m\"\u001b[0m\u001b[1;4;33mImpossible to instantiate a pipeline with tokenizer specified but not the m\u001b[0m  \u001b[31m│\u001b[0m\n",
       "\u001b[31m│\u001b[0m   \u001b[2m 849 \u001b[0m\u001b[2m│   │   │   \u001b[0m\u001b[1;4;33m\"\u001b[0m\u001b[1;4;33m may not be compatible with the default model. Please provide a PreTrainedM\u001b[0m  \u001b[31m│\u001b[0m\n",
       "\u001b[31m│\u001b[0m   \u001b[2m 850 \u001b[0m\u001b[2m│   │   │   \u001b[0m\u001b[1;4;33m\"\u001b[0m\u001b[1;4;33m path/identifier to a pretrained model when providing tokenizer.\u001b[0m\u001b[1;4;33m\"\u001b[0m            \u001b[31m│\u001b[0m\n",
       "\u001b[31m╰──────────────────────────────────────────────────────────────────────────────────────────────────╯\u001b[0m\n",
       "\u001b[1;91mRuntimeError: \u001b[0mImpossible to instantiate a pipeline with tokenizer specified but not the model as the provided \n",
       "tokenizer may not be compatible with the default model. Please provide a PreTrainedModel class or a path/identifier\n",
       "to a pretrained model when providing tokenizer.\n"
      ]
     },
     "metadata": {},
     "output_type": "display_data"
    }
   ],
   "source": [
    "# ======================================================\n",
    "# Step 7 – Evaluation\n",
    "# ======================================================\n",
    "\n",
    "def evaluate_model(model, tokenizer):\n",
    "    \"\"\"Runs a quick test prompt on the fine-tuned model.\"\"\"\n",
    "    try:\n",
    "        console.log(\"[cyan]Loading pipeline for evaluation...[/cyan]\")\n",
    "        pipe = pipeline(\n",
    "            \"text-generation\",\n",
    "            model=model,\n",
    "            tokenizer=tokenizer,\n",
    "            device_map=\"auto\"\n",
    "        )\n",
    "\n",
    "        test_prompt = \"My child has a mild cough at night, what can I do?\"\n",
    "        console.log(f\"[cyan]Testing model with sample input:[/cyan] {test_prompt}\")\n",
    "\n",
    "        result = pipe(\n",
    "            f\"{SYSTEM_PROMPT}\\n\\nInstruction: Provide advice.\\nInput: {test_prompt}\\nOutput:\",\n",
    "            max_length=512,\n",
    "            do_sample=True,\n",
    "            temperature=0.7\n",
    "        )\n",
    "\n",
    "        console.log(\"[green]✅ Evaluation complete. Model output:[/green]\")\n",
    "        console.print(result[0][\"generated_text\"])\n",
    "\n",
    "    except Exception as e:\n",
    "        console.log(\"[red]❌ Evaluation step failed[/red]\")\n",
    "        console.print_exception()\n",
    "\n",
    "try:\n",
    "    log_step(\"Step 7 – Evaluation\")\n",
    "    evaluate_model(model, tokenizer)\n",
    "except Exception as e:\n",
    "    console.log(\"[red]❌ Could not complete evaluation[/red]\")\n",
    "    console.print_exception()"
   ]
  },
  {
   "cell_type": "markdown",
   "id": "eb60e299",
   "metadata": {},
   "source": [
    "## Step 8"
   ]
  },
  {
   "cell_type": "code",
   "execution_count": 8,
   "id": "57678983-af8d-4311-9124-21bd25eb9047",
   "metadata": {},
   "outputs": [
    {
     "data": {
      "text/html": [
       "<pre style=\"white-space:pre;overflow-x:auto;line-height:normal;font-family:Menlo,'DejaVu Sans Mono',consolas,'Courier New',monospace\"><span style=\"color: #00ff00; text-decoration-color: #00ff00\">──────────────────────────────────────────── </span><span style=\"color: #000080; text-decoration-color: #000080; font-weight: bold\">Step </span><span style=\"color: #000080; text-decoration-color: #000080; font-weight: bold\">8</span><span style=\"color: #000080; text-decoration-color: #000080; font-weight: bold\"> – Gradio Interface</span><span style=\"color: #00ff00; text-decoration-color: #00ff00\"> ────────────────────────────────────────────</span>\n",
       "</pre>\n"
      ],
      "text/plain": [
       "\u001b[92m──────────────────────────────────────────── \u001b[0m\u001b[1;34mStep \u001b[0m\u001b[1;34m8\u001b[0m\u001b[1;34m – Gradio Interface\u001b[0m\u001b[92m ────────────────────────────────────────────\u001b[0m\n"
      ]
     },
     "metadata": {},
     "output_type": "display_data"
    },
    {
     "data": {
      "text/html": [
       "<pre style=\"white-space:pre;overflow-x:auto;line-height:normal;font-family:Menlo,'DejaVu Sans Mono',consolas,'Courier New',monospace\"><span style=\"color: #7fbfbf; text-decoration-color: #7fbfbf\">[20:40:49] </span><span style=\"color: #008080; text-decoration-color: #008080\">Setting up text-generation pipeline for Gradio...</span>                                         <a href=\"file:///tmp/ipykernel_30958/173306640.py\" target=\"_blank\"><span style=\"color: #7f7f7f; text-decoration-color: #7f7f7f\">173306640.py</span></a><span style=\"color: #7f7f7f; text-decoration-color: #7f7f7f\">:</span><a href=\"file:///tmp/ipykernel_30958/173306640.py#8\" target=\"_blank\"><span style=\"color: #7f7f7f; text-decoration-color: #7f7f7f\">8</span></a>\n",
       "</pre>\n"
      ],
      "text/plain": [
       "\u001b[2;36m[20:40:49]\u001b[0m\u001b[2;36m \u001b[0m\u001b[36mSetting up text-generation pipeline for Gradio\u001b[0m\u001b[36m...\u001b[0m                                         \u001b]8;id=867965;file:///tmp/ipykernel_30958/173306640.py\u001b\\\u001b[2m173306640.py\u001b[0m\u001b]8;;\u001b\\\u001b[2m:\u001b[0m\u001b]8;id=917038;file:///tmp/ipykernel_30958/173306640.py#8\u001b\\\u001b[2m8\u001b[0m\u001b]8;;\u001b\\\n"
      ]
     },
     "metadata": {},
     "output_type": "display_data"
    },
    {
     "data": {
      "text/html": [
       "<pre style=\"white-space:pre;overflow-x:auto;line-height:normal;font-family:Menlo,'DejaVu Sans Mono',consolas,'Courier New',monospace\"><span style=\"color: #7fbfbf; text-decoration-color: #7fbfbf\">           </span><span style=\"color: #800000; text-decoration-color: #800000\">❌ Gradio interface launch failed</span>                                                        <a href=\"file:///tmp/ipykernel_30958/173306640.py\" target=\"_blank\"><span style=\"color: #7f7f7f; text-decoration-color: #7f7f7f\">173306640.py</span></a><span style=\"color: #7f7f7f; text-decoration-color: #7f7f7f\">:</span><a href=\"file:///tmp/ipykernel_30958/173306640.py#36\" target=\"_blank\"><span style=\"color: #7f7f7f; text-decoration-color: #7f7f7f\">36</span></a>\n",
       "</pre>\n"
      ],
      "text/plain": [
       "\u001b[2;36m          \u001b[0m\u001b[2;36m \u001b[0m\u001b[31m❌ Gradio interface launch failed\u001b[0m                                                        \u001b]8;id=443235;file:///tmp/ipykernel_30958/173306640.py\u001b\\\u001b[2m173306640.py\u001b[0m\u001b]8;;\u001b\\\u001b[2m:\u001b[0m\u001b]8;id=864206;file:///tmp/ipykernel_30958/173306640.py#36\u001b\\\u001b[2m36\u001b[0m\u001b]8;;\u001b\\\n"
      ]
     },
     "metadata": {},
     "output_type": "display_data"
    },
    {
     "data": {
      "text/html": [
       "<pre style=\"white-space:pre;overflow-x:auto;line-height:normal;font-family:Menlo,'DejaVu Sans Mono',consolas,'Courier New',monospace\"><span style=\"color: #800000; text-decoration-color: #800000\">╭─────────────────────────────── </span><span style=\"color: #800000; text-decoration-color: #800000; font-weight: bold\">Traceback </span><span style=\"color: #bf7f7f; text-decoration-color: #bf7f7f; font-weight: bold\">(most recent call last)</span><span style=\"color: #800000; text-decoration-color: #800000\"> ────────────────────────────────╮</span>\n",
       "<span style=\"color: #800000; text-decoration-color: #800000\">│</span> in launch_gradio_chatbot:9                                                                       <span style=\"color: #800000; text-decoration-color: #800000\">│</span>\n",
       "<span style=\"color: #800000; text-decoration-color: #800000\">│</span>                                                                                                  <span style=\"color: #800000; text-decoration-color: #800000\">│</span>\n",
       "<span style=\"color: #800000; text-decoration-color: #800000\">│</span>   <span style=\"color: #7f7f7f; text-decoration-color: #7f7f7f\"> 6 </span><span style=\"color: #bfbfbf; text-decoration-color: #bfbfbf\">│   </span><span style=\"color: #808000; text-decoration-color: #808000\">\"\"\"Launches a Gradio chatbot interface for the fine-tuned model.\"\"\"</span>                     <span style=\"color: #800000; text-decoration-color: #800000\">│</span>\n",
       "<span style=\"color: #800000; text-decoration-color: #800000\">│</span>   <span style=\"color: #7f7f7f; text-decoration-color: #7f7f7f\"> 7 </span><span style=\"color: #7f7f7f; text-decoration-color: #7f7f7f\">│   </span><span style=\"color: #0000ff; text-decoration-color: #0000ff\">try</span>:                                                                                    <span style=\"color: #800000; text-decoration-color: #800000\">│</span>\n",
       "<span style=\"color: #800000; text-decoration-color: #800000\">│</span>   <span style=\"color: #7f7f7f; text-decoration-color: #7f7f7f\"> 8 </span><span style=\"color: #7f7f7f; text-decoration-color: #7f7f7f\">│   │   </span>console.log(<span style=\"color: #808000; text-decoration-color: #808000\">\"[cyan]Setting up text-generation pipeline for Gradio...[/cyan]\"</span>)       <span style=\"color: #800000; text-decoration-color: #800000\">│</span>\n",
       "<span style=\"color: #800000; text-decoration-color: #800000\">│</span> <span style=\"color: #800000; text-decoration-color: #800000\">❱ </span> 9 <span style=\"color: #7f7f7f; text-decoration-color: #7f7f7f\">│   │   </span>pipe = pipeline(                                                                    <span style=\"color: #800000; text-decoration-color: #800000\">│</span>\n",
       "<span style=\"color: #800000; text-decoration-color: #800000\">│</span>   <span style=\"color: #7f7f7f; text-decoration-color: #7f7f7f\">10 </span><span style=\"color: #7f7f7f; text-decoration-color: #7f7f7f\">│   │   │   </span><span style=\"color: #808000; text-decoration-color: #808000\">\"text-generation\"</span>,                                                              <span style=\"color: #800000; text-decoration-color: #800000\">│</span>\n",
       "<span style=\"color: #800000; text-decoration-color: #800000\">│</span>   <span style=\"color: #7f7f7f; text-decoration-color: #7f7f7f\">11 </span><span style=\"color: #7f7f7f; text-decoration-color: #7f7f7f\">│   │   │   </span>model=model,                                                                    <span style=\"color: #800000; text-decoration-color: #800000\">│</span>\n",
       "<span style=\"color: #800000; text-decoration-color: #800000\">│</span>   <span style=\"color: #7f7f7f; text-decoration-color: #7f7f7f\">12 </span><span style=\"color: #7f7f7f; text-decoration-color: #7f7f7f\">│   │   │   </span>tokenizer=tokenizer,                                                            <span style=\"color: #800000; text-decoration-color: #800000\">│</span>\n",
       "<span style=\"color: #800000; text-decoration-color: #800000\">│</span>                                                                                                  <span style=\"color: #800000; text-decoration-color: #800000\">│</span>\n",
       "<span style=\"color: #800000; text-decoration-color: #800000\">│</span> <span style=\"color: #7f7f7f; text-decoration-color: #7f7f7f\">/home/silver/anaconda3/lib/python3.13/site-packages/transformers/pipelines/</span><span style=\"font-weight: bold\">__init__.py</span>:847 in    <span style=\"color: #800000; text-decoration-color: #800000\">│</span>\n",
       "<span style=\"color: #800000; text-decoration-color: #800000\">│</span> pipeline                                                                                         <span style=\"color: #800000; text-decoration-color: #800000\">│</span>\n",
       "<span style=\"color: #800000; text-decoration-color: #800000\">│</span>                                                                                                  <span style=\"color: #800000; text-decoration-color: #800000\">│</span>\n",
       "<span style=\"color: #800000; text-decoration-color: #800000\">│</span>   <span style=\"color: #7f7f7f; text-decoration-color: #7f7f7f\"> 844 </span><span style=\"color: #7f7f7f; text-decoration-color: #7f7f7f\">│   │   </span>)                                                                                 <span style=\"color: #800000; text-decoration-color: #800000\">│</span>\n",
       "<span style=\"color: #800000; text-decoration-color: #800000\">│</span>   <span style=\"color: #7f7f7f; text-decoration-color: #7f7f7f\"> 845 </span><span style=\"color: #7f7f7f; text-decoration-color: #7f7f7f\">│   </span>                                                                                      <span style=\"color: #800000; text-decoration-color: #800000\">│</span>\n",
       "<span style=\"color: #800000; text-decoration-color: #800000\">│</span>   <span style=\"color: #7f7f7f; text-decoration-color: #7f7f7f\"> 846 </span><span style=\"color: #7f7f7f; text-decoration-color: #7f7f7f\">│   </span><span style=\"color: #0000ff; text-decoration-color: #0000ff\">if</span> model <span style=\"color: #ff00ff; text-decoration-color: #ff00ff\">is</span> <span style=\"color: #0000ff; text-decoration-color: #0000ff\">None</span> <span style=\"color: #ff00ff; text-decoration-color: #ff00ff\">and</span> tokenizer <span style=\"color: #ff00ff; text-decoration-color: #ff00ff\">is</span> <span style=\"color: #ff00ff; text-decoration-color: #ff00ff\">not</span> <span style=\"color: #0000ff; text-decoration-color: #0000ff\">None</span>:                                           <span style=\"color: #800000; text-decoration-color: #800000\">│</span>\n",
       "<span style=\"color: #800000; text-decoration-color: #800000\">│</span> <span style=\"color: #800000; text-decoration-color: #800000\">❱ </span> 847 <span style=\"color: #7f7f7f; text-decoration-color: #7f7f7f\">│   │   </span><span style=\"color: #0000ff; text-decoration-color: #0000ff; font-weight: bold; text-decoration: underline\">raise</span><span style=\"font-weight: bold; text-decoration: underline\"> </span><span style=\"color: #00ffff; text-decoration-color: #00ffff; font-weight: bold; text-decoration: underline\">RuntimeError</span><span style=\"font-weight: bold; text-decoration: underline\">(</span>                                                               <span style=\"color: #800000; text-decoration-color: #800000\">│</span>\n",
       "<span style=\"color: #800000; text-decoration-color: #800000\">│</span>   <span style=\"color: #7f7f7f; text-decoration-color: #7f7f7f\"> 848 </span><span style=\"color: #7f7f7f; text-decoration-color: #7f7f7f\">│   │   │   </span><span style=\"color: #808000; text-decoration-color: #808000; font-weight: bold; text-decoration: underline\">\"Impossible to instantiate a pipeline with tokenizer specified but not the m</span>  <span style=\"color: #800000; text-decoration-color: #800000\">│</span>\n",
       "<span style=\"color: #800000; text-decoration-color: #800000\">│</span>   <span style=\"color: #7f7f7f; text-decoration-color: #7f7f7f\"> 849 </span><span style=\"color: #7f7f7f; text-decoration-color: #7f7f7f\">│   │   │   </span><span style=\"color: #808000; text-decoration-color: #808000; font-weight: bold; text-decoration: underline\">\" may not be compatible with the default model. Please provide a PreTrainedM</span>  <span style=\"color: #800000; text-decoration-color: #800000\">│</span>\n",
       "<span style=\"color: #800000; text-decoration-color: #800000\">│</span>   <span style=\"color: #7f7f7f; text-decoration-color: #7f7f7f\"> 850 </span><span style=\"color: #7f7f7f; text-decoration-color: #7f7f7f\">│   │   │   </span><span style=\"color: #808000; text-decoration-color: #808000; font-weight: bold; text-decoration: underline\">\" path/identifier to a pretrained model when providing tokenizer.\"</span>            <span style=\"color: #800000; text-decoration-color: #800000\">│</span>\n",
       "<span style=\"color: #800000; text-decoration-color: #800000\">╰──────────────────────────────────────────────────────────────────────────────────────────────────╯</span>\n",
       "<span style=\"color: #ff0000; text-decoration-color: #ff0000; font-weight: bold\">RuntimeError: </span>Impossible to instantiate a pipeline with tokenizer specified but not the model as the provided \n",
       "tokenizer may not be compatible with the default model. Please provide a PreTrainedModel class or a path/identifier\n",
       "to a pretrained model when providing tokenizer.\n",
       "</pre>\n"
      ],
      "text/plain": [
       "\u001b[31m╭─\u001b[0m\u001b[31m──────────────────────────────\u001b[0m\u001b[31m \u001b[0m\u001b[1;31mTraceback \u001b[0m\u001b[1;2;31m(most recent call last)\u001b[0m\u001b[31m \u001b[0m\u001b[31m───────────────────────────────\u001b[0m\u001b[31m─╮\u001b[0m\n",
       "\u001b[31m│\u001b[0m in launch_gradio_chatbot:9                                                                       \u001b[31m│\u001b[0m\n",
       "\u001b[31m│\u001b[0m                                                                                                  \u001b[31m│\u001b[0m\n",
       "\u001b[31m│\u001b[0m   \u001b[2m 6 \u001b[0m\u001b[2;90m│   \u001b[0m\u001b[33m\"\"\"Launches a Gradio chatbot interface for the fine-tuned model.\"\"\"\u001b[0m                     \u001b[31m│\u001b[0m\n",
       "\u001b[31m│\u001b[0m   \u001b[2m 7 \u001b[0m\u001b[2m│   \u001b[0m\u001b[94mtry\u001b[0m:                                                                                    \u001b[31m│\u001b[0m\n",
       "\u001b[31m│\u001b[0m   \u001b[2m 8 \u001b[0m\u001b[2m│   │   \u001b[0mconsole.log(\u001b[33m\"\u001b[0m\u001b[33m[cyan]Setting up text-generation pipeline for Gradio...[/cyan]\u001b[0m\u001b[33m\"\u001b[0m)       \u001b[31m│\u001b[0m\n",
       "\u001b[31m│\u001b[0m \u001b[31m❱ \u001b[0m 9 \u001b[2m│   │   \u001b[0mpipe = pipeline(                                                                    \u001b[31m│\u001b[0m\n",
       "\u001b[31m│\u001b[0m   \u001b[2m10 \u001b[0m\u001b[2m│   │   │   \u001b[0m\u001b[33m\"\u001b[0m\u001b[33mtext-generation\u001b[0m\u001b[33m\"\u001b[0m,                                                              \u001b[31m│\u001b[0m\n",
       "\u001b[31m│\u001b[0m   \u001b[2m11 \u001b[0m\u001b[2m│   │   │   \u001b[0mmodel=model,                                                                    \u001b[31m│\u001b[0m\n",
       "\u001b[31m│\u001b[0m   \u001b[2m12 \u001b[0m\u001b[2m│   │   │   \u001b[0mtokenizer=tokenizer,                                                            \u001b[31m│\u001b[0m\n",
       "\u001b[31m│\u001b[0m                                                                                                  \u001b[31m│\u001b[0m\n",
       "\u001b[31m│\u001b[0m \u001b[2m/home/silver/anaconda3/lib/python3.13/site-packages/transformers/pipelines/\u001b[0m\u001b[1m__init__.py\u001b[0m:847 in    \u001b[31m│\u001b[0m\n",
       "\u001b[31m│\u001b[0m pipeline                                                                                         \u001b[31m│\u001b[0m\n",
       "\u001b[31m│\u001b[0m                                                                                                  \u001b[31m│\u001b[0m\n",
       "\u001b[31m│\u001b[0m   \u001b[2m 844 \u001b[0m\u001b[2m│   │   \u001b[0m)                                                                                 \u001b[31m│\u001b[0m\n",
       "\u001b[31m│\u001b[0m   \u001b[2m 845 \u001b[0m\u001b[2m│   \u001b[0m                                                                                      \u001b[31m│\u001b[0m\n",
       "\u001b[31m│\u001b[0m   \u001b[2m 846 \u001b[0m\u001b[2m│   \u001b[0m\u001b[94mif\u001b[0m model \u001b[95mis\u001b[0m \u001b[94mNone\u001b[0m \u001b[95mand\u001b[0m tokenizer \u001b[95mis\u001b[0m \u001b[95mnot\u001b[0m \u001b[94mNone\u001b[0m:                                           \u001b[31m│\u001b[0m\n",
       "\u001b[31m│\u001b[0m \u001b[31m❱ \u001b[0m 847 \u001b[2m│   │   \u001b[0m\u001b[1;4;94mraise\u001b[0m\u001b[1;4m \u001b[0m\u001b[1;4;96mRuntimeError\u001b[0m\u001b[1;4m(\u001b[0m                                                               \u001b[31m│\u001b[0m\n",
       "\u001b[31m│\u001b[0m   \u001b[2m 848 \u001b[0m\u001b[2m│   │   │   \u001b[0m\u001b[1;4;33m\"\u001b[0m\u001b[1;4;33mImpossible to instantiate a pipeline with tokenizer specified but not the m\u001b[0m  \u001b[31m│\u001b[0m\n",
       "\u001b[31m│\u001b[0m   \u001b[2m 849 \u001b[0m\u001b[2m│   │   │   \u001b[0m\u001b[1;4;33m\"\u001b[0m\u001b[1;4;33m may not be compatible with the default model. Please provide a PreTrainedM\u001b[0m  \u001b[31m│\u001b[0m\n",
       "\u001b[31m│\u001b[0m   \u001b[2m 850 \u001b[0m\u001b[2m│   │   │   \u001b[0m\u001b[1;4;33m\"\u001b[0m\u001b[1;4;33m path/identifier to a pretrained model when providing tokenizer.\u001b[0m\u001b[1;4;33m\"\u001b[0m            \u001b[31m│\u001b[0m\n",
       "\u001b[31m╰──────────────────────────────────────────────────────────────────────────────────────────────────╯\u001b[0m\n",
       "\u001b[1;91mRuntimeError: \u001b[0mImpossible to instantiate a pipeline with tokenizer specified but not the model as the provided \n",
       "tokenizer may not be compatible with the default model. Please provide a PreTrainedModel class or a path/identifier\n",
       "to a pretrained model when providing tokenizer.\n"
      ]
     },
     "metadata": {},
     "output_type": "display_data"
    }
   ],
   "source": [
    "# ======================================================\n",
    "# Step 8 – Gradio Interface\n",
    "# ======================================================\n",
    "\n",
    "def launch_gradio_chatbot(model, tokenizer):\n",
    "    \"\"\"Launches a Gradio chatbot interface for the fine-tuned model.\"\"\"\n",
    "    try:\n",
    "        console.log(\"[cyan]Setting up text-generation pipeline for Gradio...[/cyan]\")\n",
    "        pipe = pipeline(\n",
    "            \"text-generation\",\n",
    "            model=model,\n",
    "            tokenizer=tokenizer,\n",
    "            device_map=\"auto\"\n",
    "        )\n",
    "\n",
    "        def chatbot_response(user_input):\n",
    "            prompt = f\"{SYSTEM_PROMPT}\\n\\nInstruction: Provide advice.\\nInput: {user_input}\\nOutput:\"\n",
    "            result = pipe(prompt, max_length=512, do_sample=True, temperature=0.7)\n",
    "            return result[0][\"generated_text\"]\n",
    "\n",
    "        console.log(\"[cyan]Launching Gradio interface...[/cyan]\")\n",
    "        iface = gr.Interface(\n",
    "            fn=chatbot_response,\n",
    "            inputs=gr.Textbox(\n",
    "                lines=3,\n",
    "                placeholder=\"Ask about a pediatric respiratory issue...\"\n",
    "            ),\n",
    "            outputs=\"text\",\n",
    "            title=\"Pediatric Pulmonology Assistant\",\n",
    "            description=\"Provides non-critical advice with escalation guidance for pediatric respiratory issues.\"\n",
    "        )\n",
    "\n",
    "        iface.launch(share=True)\n",
    "\n",
    "    except Exception as e:\n",
    "        console.log(\"[red]❌ Gradio interface launch failed[/red]\")\n",
    "        console.print_exception()\n",
    "\n",
    "try:\n",
    "    log_step(\"Step 8 – Gradio Interface\")\n",
    "    launch_gradio_chatbot(model, tokenizer)\n",
    "except Exception as e:\n",
    "    console.log(\"[red]❌ Could not launch Gradio interface[/red]\")\n",
    "    console.print_exception()\n"
   ]
  },
  {
   "cell_type": "code",
   "execution_count": null,
   "id": "abc366a5-85ae-4a7c-9a89-f26c432b9d37",
   "metadata": {},
   "outputs": [],
   "source": []
  },
  {
   "cell_type": "code",
   "execution_count": null,
   "id": "cea44bbb-3ac3-494b-b04d-52fd1075ba2a",
   "metadata": {},
   "outputs": [],
   "source": []
  },
  {
   "cell_type": "code",
   "execution_count": null,
   "id": "d24ec2f0-1cb5-43d8-be1b-109f1937fef6",
   "metadata": {},
   "outputs": [],
   "source": []
  }
 ],
 "metadata": {
  "kernelspec": {
   "display_name": "Python [conda env:anaconda3] *",
   "language": "python",
   "name": "conda-env-anaconda3-py"
  },
  "language_info": {
   "codemirror_mode": {
    "name": "ipython",
    "version": 3
   },
   "file_extension": ".py",
   "mimetype": "text/x-python",
   "name": "python",
   "nbconvert_exporter": "python",
   "pygments_lexer": "ipython3",
   "version": "3.13.5"
  }
 },
 "nbformat": 4,
 "nbformat_minor": 5
}
